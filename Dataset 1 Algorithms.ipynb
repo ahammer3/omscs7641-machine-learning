{
 "cells": [
  {
   "cell_type": "markdown",
   "metadata": {},
   "source": [
    "# OMSCS CS7641\n",
    "# Machine Learning\n",
    "# Allan Hammer\n",
    "# Project 1"
   ]
  },
  {
   "cell_type": "markdown",
   "metadata": {},
   "source": [
    "### Why?\n",
    "The purpose of this project is to explore some techniques in supervised learning. It is important to realize that understanding an algorithm or technique requires understanding how it behaves under a variety of circumstances. As such, you will be asked to \"implement\" some simple learning algorithms (for sufficiently small values of implement, meaning I don't really want you to implement anything at all), and to compare their performance..."
   ]
  },
  {
   "cell_type": "code",
   "execution_count": 1,
   "metadata": {},
   "outputs": [],
   "source": [
    "import pandas as pd\n",
    "import numpy as np\n",
    "import matplotlib.pyplot as plt\n",
    "import time\n",
    "import warnings\n",
    "warnings.filterwarnings(\"ignore\")"
   ]
  },
  {
   "cell_type": "markdown",
   "metadata": {},
   "source": [
    "## Dataset 1: Adult Incomes"
   ]
  },
  {
   "cell_type": "code",
   "execution_count": 2,
   "metadata": {},
   "outputs": [],
   "source": [
    "# dataset 1\n",
    "# https://www.kaggle.com/wenruliu/adult-income-dataset\n",
    "dat = pd.read_csv(\"adult.csv\")"
   ]
  },
  {
   "cell_type": "code",
   "execution_count": 3,
   "metadata": {},
   "outputs": [
    {
     "data": {
      "text/html": [
       "<div>\n",
       "<style scoped>\n",
       "    .dataframe tbody tr th:only-of-type {\n",
       "        vertical-align: middle;\n",
       "    }\n",
       "\n",
       "    .dataframe tbody tr th {\n",
       "        vertical-align: top;\n",
       "    }\n",
       "\n",
       "    .dataframe thead th {\n",
       "        text-align: right;\n",
       "    }\n",
       "</style>\n",
       "<table border=\"1\" class=\"dataframe\">\n",
       "  <thead>\n",
       "    <tr style=\"text-align: right;\">\n",
       "      <th></th>\n",
       "      <th>age</th>\n",
       "      <th>workclass</th>\n",
       "      <th>fnlwgt</th>\n",
       "      <th>education</th>\n",
       "      <th>educational-num</th>\n",
       "      <th>marital-status</th>\n",
       "      <th>occupation</th>\n",
       "      <th>relationship</th>\n",
       "      <th>race</th>\n",
       "      <th>gender</th>\n",
       "      <th>capital-gain</th>\n",
       "      <th>capital-loss</th>\n",
       "      <th>hours-per-week</th>\n",
       "      <th>native-country</th>\n",
       "      <th>income</th>\n",
       "    </tr>\n",
       "  </thead>\n",
       "  <tbody>\n",
       "    <tr>\n",
       "      <th>0</th>\n",
       "      <td>25</td>\n",
       "      <td>Private</td>\n",
       "      <td>226802</td>\n",
       "      <td>11th</td>\n",
       "      <td>7</td>\n",
       "      <td>Never-married</td>\n",
       "      <td>Machine-op-inspct</td>\n",
       "      <td>Own-child</td>\n",
       "      <td>Black</td>\n",
       "      <td>Male</td>\n",
       "      <td>0</td>\n",
       "      <td>0</td>\n",
       "      <td>40</td>\n",
       "      <td>United-States</td>\n",
       "      <td>&lt;=50K</td>\n",
       "    </tr>\n",
       "    <tr>\n",
       "      <th>1</th>\n",
       "      <td>38</td>\n",
       "      <td>Private</td>\n",
       "      <td>89814</td>\n",
       "      <td>HS-grad</td>\n",
       "      <td>9</td>\n",
       "      <td>Married-civ-spouse</td>\n",
       "      <td>Farming-fishing</td>\n",
       "      <td>Husband</td>\n",
       "      <td>White</td>\n",
       "      <td>Male</td>\n",
       "      <td>0</td>\n",
       "      <td>0</td>\n",
       "      <td>50</td>\n",
       "      <td>United-States</td>\n",
       "      <td>&lt;=50K</td>\n",
       "    </tr>\n",
       "    <tr>\n",
       "      <th>2</th>\n",
       "      <td>28</td>\n",
       "      <td>Local-gov</td>\n",
       "      <td>336951</td>\n",
       "      <td>Assoc-acdm</td>\n",
       "      <td>12</td>\n",
       "      <td>Married-civ-spouse</td>\n",
       "      <td>Protective-serv</td>\n",
       "      <td>Husband</td>\n",
       "      <td>White</td>\n",
       "      <td>Male</td>\n",
       "      <td>0</td>\n",
       "      <td>0</td>\n",
       "      <td>40</td>\n",
       "      <td>United-States</td>\n",
       "      <td>&gt;50K</td>\n",
       "    </tr>\n",
       "    <tr>\n",
       "      <th>3</th>\n",
       "      <td>44</td>\n",
       "      <td>Private</td>\n",
       "      <td>160323</td>\n",
       "      <td>Some-college</td>\n",
       "      <td>10</td>\n",
       "      <td>Married-civ-spouse</td>\n",
       "      <td>Machine-op-inspct</td>\n",
       "      <td>Husband</td>\n",
       "      <td>Black</td>\n",
       "      <td>Male</td>\n",
       "      <td>7688</td>\n",
       "      <td>0</td>\n",
       "      <td>40</td>\n",
       "      <td>United-States</td>\n",
       "      <td>&gt;50K</td>\n",
       "    </tr>\n",
       "    <tr>\n",
       "      <th>4</th>\n",
       "      <td>18</td>\n",
       "      <td>?</td>\n",
       "      <td>103497</td>\n",
       "      <td>Some-college</td>\n",
       "      <td>10</td>\n",
       "      <td>Never-married</td>\n",
       "      <td>?</td>\n",
       "      <td>Own-child</td>\n",
       "      <td>White</td>\n",
       "      <td>Female</td>\n",
       "      <td>0</td>\n",
       "      <td>0</td>\n",
       "      <td>30</td>\n",
       "      <td>United-States</td>\n",
       "      <td>&lt;=50K</td>\n",
       "    </tr>\n",
       "  </tbody>\n",
       "</table>\n",
       "</div>"
      ],
      "text/plain": [
       "   age  workclass  fnlwgt     education  educational-num      marital-status  \\\n",
       "0   25    Private  226802          11th                7       Never-married   \n",
       "1   38    Private   89814       HS-grad                9  Married-civ-spouse   \n",
       "2   28  Local-gov  336951    Assoc-acdm               12  Married-civ-spouse   \n",
       "3   44    Private  160323  Some-college               10  Married-civ-spouse   \n",
       "4   18          ?  103497  Some-college               10       Never-married   \n",
       "\n",
       "          occupation relationship   race  gender  capital-gain  capital-loss  \\\n",
       "0  Machine-op-inspct    Own-child  Black    Male             0             0   \n",
       "1    Farming-fishing      Husband  White    Male             0             0   \n",
       "2    Protective-serv      Husband  White    Male             0             0   \n",
       "3  Machine-op-inspct      Husband  Black    Male          7688             0   \n",
       "4                  ?    Own-child  White  Female             0             0   \n",
       "\n",
       "   hours-per-week native-country income  \n",
       "0              40  United-States  <=50K  \n",
       "1              50  United-States  <=50K  \n",
       "2              40  United-States   >50K  \n",
       "3              40  United-States   >50K  \n",
       "4              30  United-States  <=50K  "
      ]
     },
     "execution_count": 3,
     "metadata": {},
     "output_type": "execute_result"
    }
   ],
   "source": [
    "dat.head()"
   ]
  },
  {
   "cell_type": "code",
   "execution_count": 4,
   "metadata": {},
   "outputs": [
    {
     "data": {
      "text/plain": [
       "<=50K    37155\n",
       ">50K     11687\n",
       "Name: income, dtype: int64"
      ]
     },
     "execution_count": 4,
     "metadata": {},
     "output_type": "execute_result"
    }
   ],
   "source": [
    "dat['income'].value_counts()"
   ]
  },
  {
   "cell_type": "code",
   "execution_count": 5,
   "metadata": {},
   "outputs": [
    {
     "name": "stdout",
     "output_type": "stream",
     "text": [
      "Blind guessing should get you a minimum of:  76.07182343065395 % accuracy.\n"
     ]
    }
   ],
   "source": [
    "print(\"Blind guessing should get you a minimum of: \", (37155/(37155+11687))*100, \"% accuracy.\")"
   ]
  },
  {
   "cell_type": "code",
   "execution_count": 6,
   "metadata": {},
   "outputs": [],
   "source": [
    "data = pd.get_dummies(dat)"
   ]
  },
  {
   "cell_type": "code",
   "execution_count": 7,
   "metadata": {},
   "outputs": [
    {
     "data": {
      "text/html": [
       "<div>\n",
       "<style scoped>\n",
       "    .dataframe tbody tr th:only-of-type {\n",
       "        vertical-align: middle;\n",
       "    }\n",
       "\n",
       "    .dataframe tbody tr th {\n",
       "        vertical-align: top;\n",
       "    }\n",
       "\n",
       "    .dataframe thead th {\n",
       "        text-align: right;\n",
       "    }\n",
       "</style>\n",
       "<table border=\"1\" class=\"dataframe\">\n",
       "  <thead>\n",
       "    <tr style=\"text-align: right;\">\n",
       "      <th></th>\n",
       "      <th>age</th>\n",
       "      <th>fnlwgt</th>\n",
       "      <th>educational-num</th>\n",
       "      <th>capital-gain</th>\n",
       "      <th>capital-loss</th>\n",
       "      <th>hours-per-week</th>\n",
       "      <th>workclass_?</th>\n",
       "      <th>workclass_Federal-gov</th>\n",
       "      <th>workclass_Local-gov</th>\n",
       "      <th>workclass_Never-worked</th>\n",
       "      <th>...</th>\n",
       "      <th>native-country_Scotland</th>\n",
       "      <th>native-country_South</th>\n",
       "      <th>native-country_Taiwan</th>\n",
       "      <th>native-country_Thailand</th>\n",
       "      <th>native-country_Trinadad&amp;Tobago</th>\n",
       "      <th>native-country_United-States</th>\n",
       "      <th>native-country_Vietnam</th>\n",
       "      <th>native-country_Yugoslavia</th>\n",
       "      <th>income_&lt;=50K</th>\n",
       "      <th>income_&gt;50K</th>\n",
       "    </tr>\n",
       "  </thead>\n",
       "  <tbody>\n",
       "    <tr>\n",
       "      <th>0</th>\n",
       "      <td>25</td>\n",
       "      <td>226802</td>\n",
       "      <td>7</td>\n",
       "      <td>0</td>\n",
       "      <td>0</td>\n",
       "      <td>40</td>\n",
       "      <td>0</td>\n",
       "      <td>0</td>\n",
       "      <td>0</td>\n",
       "      <td>0</td>\n",
       "      <td>...</td>\n",
       "      <td>0</td>\n",
       "      <td>0</td>\n",
       "      <td>0</td>\n",
       "      <td>0</td>\n",
       "      <td>0</td>\n",
       "      <td>1</td>\n",
       "      <td>0</td>\n",
       "      <td>0</td>\n",
       "      <td>1</td>\n",
       "      <td>0</td>\n",
       "    </tr>\n",
       "    <tr>\n",
       "      <th>1</th>\n",
       "      <td>38</td>\n",
       "      <td>89814</td>\n",
       "      <td>9</td>\n",
       "      <td>0</td>\n",
       "      <td>0</td>\n",
       "      <td>50</td>\n",
       "      <td>0</td>\n",
       "      <td>0</td>\n",
       "      <td>0</td>\n",
       "      <td>0</td>\n",
       "      <td>...</td>\n",
       "      <td>0</td>\n",
       "      <td>0</td>\n",
       "      <td>0</td>\n",
       "      <td>0</td>\n",
       "      <td>0</td>\n",
       "      <td>1</td>\n",
       "      <td>0</td>\n",
       "      <td>0</td>\n",
       "      <td>1</td>\n",
       "      <td>0</td>\n",
       "    </tr>\n",
       "    <tr>\n",
       "      <th>2</th>\n",
       "      <td>28</td>\n",
       "      <td>336951</td>\n",
       "      <td>12</td>\n",
       "      <td>0</td>\n",
       "      <td>0</td>\n",
       "      <td>40</td>\n",
       "      <td>0</td>\n",
       "      <td>0</td>\n",
       "      <td>1</td>\n",
       "      <td>0</td>\n",
       "      <td>...</td>\n",
       "      <td>0</td>\n",
       "      <td>0</td>\n",
       "      <td>0</td>\n",
       "      <td>0</td>\n",
       "      <td>0</td>\n",
       "      <td>1</td>\n",
       "      <td>0</td>\n",
       "      <td>0</td>\n",
       "      <td>0</td>\n",
       "      <td>1</td>\n",
       "    </tr>\n",
       "    <tr>\n",
       "      <th>3</th>\n",
       "      <td>44</td>\n",
       "      <td>160323</td>\n",
       "      <td>10</td>\n",
       "      <td>7688</td>\n",
       "      <td>0</td>\n",
       "      <td>40</td>\n",
       "      <td>0</td>\n",
       "      <td>0</td>\n",
       "      <td>0</td>\n",
       "      <td>0</td>\n",
       "      <td>...</td>\n",
       "      <td>0</td>\n",
       "      <td>0</td>\n",
       "      <td>0</td>\n",
       "      <td>0</td>\n",
       "      <td>0</td>\n",
       "      <td>1</td>\n",
       "      <td>0</td>\n",
       "      <td>0</td>\n",
       "      <td>0</td>\n",
       "      <td>1</td>\n",
       "    </tr>\n",
       "    <tr>\n",
       "      <th>4</th>\n",
       "      <td>18</td>\n",
       "      <td>103497</td>\n",
       "      <td>10</td>\n",
       "      <td>0</td>\n",
       "      <td>0</td>\n",
       "      <td>30</td>\n",
       "      <td>1</td>\n",
       "      <td>0</td>\n",
       "      <td>0</td>\n",
       "      <td>0</td>\n",
       "      <td>...</td>\n",
       "      <td>0</td>\n",
       "      <td>0</td>\n",
       "      <td>0</td>\n",
       "      <td>0</td>\n",
       "      <td>0</td>\n",
       "      <td>1</td>\n",
       "      <td>0</td>\n",
       "      <td>0</td>\n",
       "      <td>1</td>\n",
       "      <td>0</td>\n",
       "    </tr>\n",
       "  </tbody>\n",
       "</table>\n",
       "<p>5 rows × 110 columns</p>\n",
       "</div>"
      ],
      "text/plain": [
       "   age  fnlwgt  educational-num  capital-gain  capital-loss  hours-per-week  \\\n",
       "0   25  226802                7             0             0              40   \n",
       "1   38   89814                9             0             0              50   \n",
       "2   28  336951               12             0             0              40   \n",
       "3   44  160323               10          7688             0              40   \n",
       "4   18  103497               10             0             0              30   \n",
       "\n",
       "   workclass_?  workclass_Federal-gov  workclass_Local-gov  \\\n",
       "0            0                      0                    0   \n",
       "1            0                      0                    0   \n",
       "2            0                      0                    1   \n",
       "3            0                      0                    0   \n",
       "4            1                      0                    0   \n",
       "\n",
       "   workclass_Never-worked  ...  native-country_Scotland  native-country_South  \\\n",
       "0                       0  ...                        0                     0   \n",
       "1                       0  ...                        0                     0   \n",
       "2                       0  ...                        0                     0   \n",
       "3                       0  ...                        0                     0   \n",
       "4                       0  ...                        0                     0   \n",
       "\n",
       "   native-country_Taiwan  native-country_Thailand  \\\n",
       "0                      0                        0   \n",
       "1                      0                        0   \n",
       "2                      0                        0   \n",
       "3                      0                        0   \n",
       "4                      0                        0   \n",
       "\n",
       "   native-country_Trinadad&Tobago  native-country_United-States  \\\n",
       "0                               0                             1   \n",
       "1                               0                             1   \n",
       "2                               0                             1   \n",
       "3                               0                             1   \n",
       "4                               0                             1   \n",
       "\n",
       "   native-country_Vietnam  native-country_Yugoslavia  income_<=50K  \\\n",
       "0                       0                          0             1   \n",
       "1                       0                          0             1   \n",
       "2                       0                          0             0   \n",
       "3                       0                          0             0   \n",
       "4                       0                          0             1   \n",
       "\n",
       "   income_>50K  \n",
       "0            0  \n",
       "1            0  \n",
       "2            1  \n",
       "3            1  \n",
       "4            0  \n",
       "\n",
       "[5 rows x 110 columns]"
      ]
     },
     "execution_count": 7,
     "metadata": {},
     "output_type": "execute_result"
    }
   ],
   "source": [
    "data.head()"
   ]
  },
  {
   "cell_type": "code",
   "execution_count": 8,
   "metadata": {},
   "outputs": [
    {
     "data": {
      "text/html": [
       "<div>\n",
       "<style scoped>\n",
       "    .dataframe tbody tr th:only-of-type {\n",
       "        vertical-align: middle;\n",
       "    }\n",
       "\n",
       "    .dataframe tbody tr th {\n",
       "        vertical-align: top;\n",
       "    }\n",
       "\n",
       "    .dataframe thead th {\n",
       "        text-align: right;\n",
       "    }\n",
       "</style>\n",
       "<table border=\"1\" class=\"dataframe\">\n",
       "  <thead>\n",
       "    <tr style=\"text-align: right;\">\n",
       "      <th></th>\n",
       "      <th>age</th>\n",
       "      <th>fnlwgt</th>\n",
       "      <th>educational-num</th>\n",
       "      <th>capital-gain</th>\n",
       "      <th>capital-loss</th>\n",
       "      <th>hours-per-week</th>\n",
       "      <th>workclass_?</th>\n",
       "      <th>workclass_Federal-gov</th>\n",
       "      <th>workclass_Local-gov</th>\n",
       "      <th>workclass_Never-worked</th>\n",
       "      <th>...</th>\n",
       "      <th>native-country_Scotland</th>\n",
       "      <th>native-country_South</th>\n",
       "      <th>native-country_Taiwan</th>\n",
       "      <th>native-country_Thailand</th>\n",
       "      <th>native-country_Trinadad&amp;Tobago</th>\n",
       "      <th>native-country_United-States</th>\n",
       "      <th>native-country_Vietnam</th>\n",
       "      <th>native-country_Yugoslavia</th>\n",
       "      <th>income_&lt;=50K</th>\n",
       "      <th>income_&gt;50K</th>\n",
       "    </tr>\n",
       "  </thead>\n",
       "  <tbody>\n",
       "    <tr>\n",
       "      <th>count</th>\n",
       "      <td>48842.000000</td>\n",
       "      <td>4.884200e+04</td>\n",
       "      <td>48842.000000</td>\n",
       "      <td>48842.000000</td>\n",
       "      <td>48842.000000</td>\n",
       "      <td>48842.000000</td>\n",
       "      <td>48842.000000</td>\n",
       "      <td>48842.000000</td>\n",
       "      <td>48842.000000</td>\n",
       "      <td>48842.000000</td>\n",
       "      <td>...</td>\n",
       "      <td>48842.000000</td>\n",
       "      <td>48842.000000</td>\n",
       "      <td>48842.000000</td>\n",
       "      <td>48842.000000</td>\n",
       "      <td>48842.000000</td>\n",
       "      <td>48842.000000</td>\n",
       "      <td>48842.000000</td>\n",
       "      <td>48842.000000</td>\n",
       "      <td>48842.000000</td>\n",
       "      <td>48842.000000</td>\n",
       "    </tr>\n",
       "    <tr>\n",
       "      <th>mean</th>\n",
       "      <td>38.643585</td>\n",
       "      <td>1.896641e+05</td>\n",
       "      <td>10.078089</td>\n",
       "      <td>1079.067626</td>\n",
       "      <td>87.502314</td>\n",
       "      <td>40.422382</td>\n",
       "      <td>0.057307</td>\n",
       "      <td>0.029319</td>\n",
       "      <td>0.064207</td>\n",
       "      <td>0.000205</td>\n",
       "      <td>...</td>\n",
       "      <td>0.000430</td>\n",
       "      <td>0.002355</td>\n",
       "      <td>0.001331</td>\n",
       "      <td>0.000614</td>\n",
       "      <td>0.000553</td>\n",
       "      <td>0.897424</td>\n",
       "      <td>0.001761</td>\n",
       "      <td>0.000471</td>\n",
       "      <td>0.760718</td>\n",
       "      <td>0.239282</td>\n",
       "    </tr>\n",
       "    <tr>\n",
       "      <th>std</th>\n",
       "      <td>13.710510</td>\n",
       "      <td>1.056040e+05</td>\n",
       "      <td>2.570973</td>\n",
       "      <td>7452.019058</td>\n",
       "      <td>403.004552</td>\n",
       "      <td>12.391444</td>\n",
       "      <td>0.232431</td>\n",
       "      <td>0.168701</td>\n",
       "      <td>0.245124</td>\n",
       "      <td>0.014307</td>\n",
       "      <td>...</td>\n",
       "      <td>0.020731</td>\n",
       "      <td>0.048467</td>\n",
       "      <td>0.036457</td>\n",
       "      <td>0.024776</td>\n",
       "      <td>0.023506</td>\n",
       "      <td>0.303407</td>\n",
       "      <td>0.041925</td>\n",
       "      <td>0.021695</td>\n",
       "      <td>0.426649</td>\n",
       "      <td>0.426649</td>\n",
       "    </tr>\n",
       "    <tr>\n",
       "      <th>min</th>\n",
       "      <td>17.000000</td>\n",
       "      <td>1.228500e+04</td>\n",
       "      <td>1.000000</td>\n",
       "      <td>0.000000</td>\n",
       "      <td>0.000000</td>\n",
       "      <td>1.000000</td>\n",
       "      <td>0.000000</td>\n",
       "      <td>0.000000</td>\n",
       "      <td>0.000000</td>\n",
       "      <td>0.000000</td>\n",
       "      <td>...</td>\n",
       "      <td>0.000000</td>\n",
       "      <td>0.000000</td>\n",
       "      <td>0.000000</td>\n",
       "      <td>0.000000</td>\n",
       "      <td>0.000000</td>\n",
       "      <td>0.000000</td>\n",
       "      <td>0.000000</td>\n",
       "      <td>0.000000</td>\n",
       "      <td>0.000000</td>\n",
       "      <td>0.000000</td>\n",
       "    </tr>\n",
       "    <tr>\n",
       "      <th>25%</th>\n",
       "      <td>28.000000</td>\n",
       "      <td>1.175505e+05</td>\n",
       "      <td>9.000000</td>\n",
       "      <td>0.000000</td>\n",
       "      <td>0.000000</td>\n",
       "      <td>40.000000</td>\n",
       "      <td>0.000000</td>\n",
       "      <td>0.000000</td>\n",
       "      <td>0.000000</td>\n",
       "      <td>0.000000</td>\n",
       "      <td>...</td>\n",
       "      <td>0.000000</td>\n",
       "      <td>0.000000</td>\n",
       "      <td>0.000000</td>\n",
       "      <td>0.000000</td>\n",
       "      <td>0.000000</td>\n",
       "      <td>1.000000</td>\n",
       "      <td>0.000000</td>\n",
       "      <td>0.000000</td>\n",
       "      <td>1.000000</td>\n",
       "      <td>0.000000</td>\n",
       "    </tr>\n",
       "    <tr>\n",
       "      <th>50%</th>\n",
       "      <td>37.000000</td>\n",
       "      <td>1.781445e+05</td>\n",
       "      <td>10.000000</td>\n",
       "      <td>0.000000</td>\n",
       "      <td>0.000000</td>\n",
       "      <td>40.000000</td>\n",
       "      <td>0.000000</td>\n",
       "      <td>0.000000</td>\n",
       "      <td>0.000000</td>\n",
       "      <td>0.000000</td>\n",
       "      <td>...</td>\n",
       "      <td>0.000000</td>\n",
       "      <td>0.000000</td>\n",
       "      <td>0.000000</td>\n",
       "      <td>0.000000</td>\n",
       "      <td>0.000000</td>\n",
       "      <td>1.000000</td>\n",
       "      <td>0.000000</td>\n",
       "      <td>0.000000</td>\n",
       "      <td>1.000000</td>\n",
       "      <td>0.000000</td>\n",
       "    </tr>\n",
       "    <tr>\n",
       "      <th>75%</th>\n",
       "      <td>48.000000</td>\n",
       "      <td>2.376420e+05</td>\n",
       "      <td>12.000000</td>\n",
       "      <td>0.000000</td>\n",
       "      <td>0.000000</td>\n",
       "      <td>45.000000</td>\n",
       "      <td>0.000000</td>\n",
       "      <td>0.000000</td>\n",
       "      <td>0.000000</td>\n",
       "      <td>0.000000</td>\n",
       "      <td>...</td>\n",
       "      <td>0.000000</td>\n",
       "      <td>0.000000</td>\n",
       "      <td>0.000000</td>\n",
       "      <td>0.000000</td>\n",
       "      <td>0.000000</td>\n",
       "      <td>1.000000</td>\n",
       "      <td>0.000000</td>\n",
       "      <td>0.000000</td>\n",
       "      <td>1.000000</td>\n",
       "      <td>0.000000</td>\n",
       "    </tr>\n",
       "    <tr>\n",
       "      <th>max</th>\n",
       "      <td>90.000000</td>\n",
       "      <td>1.490400e+06</td>\n",
       "      <td>16.000000</td>\n",
       "      <td>99999.000000</td>\n",
       "      <td>4356.000000</td>\n",
       "      <td>99.000000</td>\n",
       "      <td>1.000000</td>\n",
       "      <td>1.000000</td>\n",
       "      <td>1.000000</td>\n",
       "      <td>1.000000</td>\n",
       "      <td>...</td>\n",
       "      <td>1.000000</td>\n",
       "      <td>1.000000</td>\n",
       "      <td>1.000000</td>\n",
       "      <td>1.000000</td>\n",
       "      <td>1.000000</td>\n",
       "      <td>1.000000</td>\n",
       "      <td>1.000000</td>\n",
       "      <td>1.000000</td>\n",
       "      <td>1.000000</td>\n",
       "      <td>1.000000</td>\n",
       "    </tr>\n",
       "  </tbody>\n",
       "</table>\n",
       "<p>8 rows × 110 columns</p>\n",
       "</div>"
      ],
      "text/plain": [
       "                age        fnlwgt  educational-num  capital-gain  \\\n",
       "count  48842.000000  4.884200e+04     48842.000000  48842.000000   \n",
       "mean      38.643585  1.896641e+05        10.078089   1079.067626   \n",
       "std       13.710510  1.056040e+05         2.570973   7452.019058   \n",
       "min       17.000000  1.228500e+04         1.000000      0.000000   \n",
       "25%       28.000000  1.175505e+05         9.000000      0.000000   \n",
       "50%       37.000000  1.781445e+05        10.000000      0.000000   \n",
       "75%       48.000000  2.376420e+05        12.000000      0.000000   \n",
       "max       90.000000  1.490400e+06        16.000000  99999.000000   \n",
       "\n",
       "       capital-loss  hours-per-week   workclass_?  workclass_Federal-gov  \\\n",
       "count  48842.000000    48842.000000  48842.000000           48842.000000   \n",
       "mean      87.502314       40.422382      0.057307               0.029319   \n",
       "std      403.004552       12.391444      0.232431               0.168701   \n",
       "min        0.000000        1.000000      0.000000               0.000000   \n",
       "25%        0.000000       40.000000      0.000000               0.000000   \n",
       "50%        0.000000       40.000000      0.000000               0.000000   \n",
       "75%        0.000000       45.000000      0.000000               0.000000   \n",
       "max     4356.000000       99.000000      1.000000               1.000000   \n",
       "\n",
       "       workclass_Local-gov  workclass_Never-worked  ...  \\\n",
       "count         48842.000000            48842.000000  ...   \n",
       "mean              0.064207                0.000205  ...   \n",
       "std               0.245124                0.014307  ...   \n",
       "min               0.000000                0.000000  ...   \n",
       "25%               0.000000                0.000000  ...   \n",
       "50%               0.000000                0.000000  ...   \n",
       "75%               0.000000                0.000000  ...   \n",
       "max               1.000000                1.000000  ...   \n",
       "\n",
       "       native-country_Scotland  native-country_South  native-country_Taiwan  \\\n",
       "count             48842.000000          48842.000000           48842.000000   \n",
       "mean                  0.000430              0.002355               0.001331   \n",
       "std                   0.020731              0.048467               0.036457   \n",
       "min                   0.000000              0.000000               0.000000   \n",
       "25%                   0.000000              0.000000               0.000000   \n",
       "50%                   0.000000              0.000000               0.000000   \n",
       "75%                   0.000000              0.000000               0.000000   \n",
       "max                   1.000000              1.000000               1.000000   \n",
       "\n",
       "       native-country_Thailand  native-country_Trinadad&Tobago  \\\n",
       "count             48842.000000                    48842.000000   \n",
       "mean                  0.000614                        0.000553   \n",
       "std                   0.024776                        0.023506   \n",
       "min                   0.000000                        0.000000   \n",
       "25%                   0.000000                        0.000000   \n",
       "50%                   0.000000                        0.000000   \n",
       "75%                   0.000000                        0.000000   \n",
       "max                   1.000000                        1.000000   \n",
       "\n",
       "       native-country_United-States  native-country_Vietnam  \\\n",
       "count                  48842.000000            48842.000000   \n",
       "mean                       0.897424                0.001761   \n",
       "std                        0.303407                0.041925   \n",
       "min                        0.000000                0.000000   \n",
       "25%                        1.000000                0.000000   \n",
       "50%                        1.000000                0.000000   \n",
       "75%                        1.000000                0.000000   \n",
       "max                        1.000000                1.000000   \n",
       "\n",
       "       native-country_Yugoslavia  income_<=50K   income_>50K  \n",
       "count               48842.000000  48842.000000  48842.000000  \n",
       "mean                    0.000471      0.760718      0.239282  \n",
       "std                     0.021695      0.426649      0.426649  \n",
       "min                     0.000000      0.000000      0.000000  \n",
       "25%                     0.000000      1.000000      0.000000  \n",
       "50%                     0.000000      1.000000      0.000000  \n",
       "75%                     0.000000      1.000000      0.000000  \n",
       "max                     1.000000      1.000000      1.000000  \n",
       "\n",
       "[8 rows x 110 columns]"
      ]
     },
     "execution_count": 8,
     "metadata": {},
     "output_type": "execute_result"
    }
   ],
   "source": [
    "# things to note:\n",
    "# 1) lots of values near 0 and lots of values in the tens of thousands - how will this affect weighting?\n",
    "# 2) dimensionality needed to be expanded grealy for the dummies - curse?\n",
    "# 3) lots of correlated data as a result of the domain and dummy classes - will this  affect certain algorithms?\n",
    "data.describe()"
   ]
  },
  {
   "cell_type": "code",
   "execution_count": 9,
   "metadata": {},
   "outputs": [],
   "source": [
    "y = data['income_>50K']\n",
    "X = data.drop(['income_>50K', 'income_<=50K'], axis=1)\n",
    "\n",
    "# split into train and test (we will use the test for all final testing)\n",
    "from sklearn.model_selection import train_test_split\n",
    "X_train, X_test, y_train, y_test = train_test_split(X, y, test_size=.05)"
   ]
  },
  {
   "cell_type": "code",
   "execution_count": 10,
   "metadata": {},
   "outputs": [],
   "source": [
    "# LEARNING CURVES\n",
    "validation_sizes = [.05, .10, .20, .33, .5]"
   ]
  },
  {
   "cell_type": "code",
   "execution_count": 11,
   "metadata": {},
   "outputs": [],
   "source": [
    "from sklearn.metrics import accuracy_score\n",
    "from sklearn.model_selection import cross_validate\n",
    "from sklearn.model_selection import GridSearchCV"
   ]
  },
  {
   "cell_type": "markdown",
   "metadata": {},
   "source": [
    "***Note: For the sections below, each model section can be run independently since there are huge time differences in implementation.***"
   ]
  },
  {
   "cell_type": "markdown",
   "metadata": {},
   "source": [
    "## Decision Tree"
   ]
  },
  {
   "cell_type": "code",
   "execution_count": 12,
   "metadata": {},
   "outputs": [],
   "source": [
    "## Decision Tree\n",
    "from sklearn.tree import DecisionTreeClassifier"
   ]
  },
  {
   "cell_type": "code",
   "execution_count": 13,
   "metadata": {},
   "outputs": [
    {
     "name": "stdout",
     "output_type": "stream",
     "text": [
      "Completed round 1 of 5\n",
      "Completed round 2 of 5\n",
      "Completed round 3 of 5\n",
      "Completed round 4 of 5\n",
      "Completed round 5 of 5\n"
     ]
    }
   ],
   "source": [
    "train_accuracy = []\n",
    "val_accuracy = []\n",
    "\n",
    "for i in range(5):\n",
    "    X_train_new, X_val, y_train_new, y_val = train_test_split(X_train, y_train, test_size=validation_sizes[i], random_state=20170826)\n",
    "    \n",
    "    tree = DecisionTreeClassifier(criterion='entropy', max_depth=6, min_samples_leaf=5, random_state=20170826)\n",
    "    \n",
    "    tree.fit(X_train_new, y_train_new)\n",
    "    \n",
    "    predictions_train = tree.predict(X_train_new)\n",
    "    predictions_val = tree.predict(X_val)\n",
    "    \n",
    "    train_accuracy.append(accuracy_score(y_train_new, predictions_train))\n",
    "    val_accuracy.append(accuracy_score(y_val, predictions_val))\n",
    "    \n",
    "    print(\"Completed round\", i+1, \"of 5\")"
   ]
  },
  {
   "cell_type": "code",
   "execution_count": 14,
   "metadata": {},
   "outputs": [],
   "source": [
    "training_df = pd.DataFrame(\n",
    "    {'train_accuracy': train_accuracy,\n",
    "     'val_accuracy': val_accuracy,\n",
    "     'validation_sizes': validation_sizes}\n",
    ")"
   ]
  },
  {
   "cell_type": "code",
   "execution_count": 15,
   "metadata": {},
   "outputs": [
    {
     "data": {
      "image/png": "[encoded data removed]",
      "text/plain": [
       "<Figure size 432x288 with 1 Axes>"
      ]
     },
     "metadata": {
      "needs_background": "light"
     },
     "output_type": "display_data"
    }
   ],
   "source": [
    "plt.plot(training_df[\"validation_sizes\"], training_df[[\"train_accuracy\", \"val_accuracy\"]])\n",
    "plt.xlabel('Validation Set Size')\n",
    "plt.ylabel('Model Accuracy')\n",
    "plt.title('Decision Tree Accuracy by Validation and Training Set Size')\n",
    "plt.xticks([0,.1,.2,.3,.4,.5])\n",
    "plt.legend(['train_accuracy', \"val_accuracy\"])\n",
    "plt.show()"
   ]
  },
  {
   "cell_type": "markdown",
   "metadata": {},
   "source": [
    "***Best validation set size for the hyperparameters: 0.5 - This means a k of 2 for k-fold cross validation.***"
   ]
  },
  {
   "cell_type": "code",
   "execution_count": 16,
   "metadata": {},
   "outputs": [
    {
     "name": "stdout",
     "output_type": "stream",
     "text": [
      "Completed Round 1 of 10.\n",
      "Completed Round 2 of 10.\n",
      "Completed Round 3 of 10.\n",
      "Completed Round 4 of 10.\n",
      "Completed Round 5 of 10.\n",
      "Completed Round 6 of 10.\n",
      "Completed Round 7 of 10.\n",
      "Completed Round 8 of 10.\n",
      "Completed Round 9 of 10.\n",
      "Completed Round 10 of 10.\n"
     ]
    }
   ],
   "source": [
    "# first we do pruning - max depth parameter\n",
    "max_depths = [2, 3, 4, 5, 6, 7, 8, 9, 10, 11]\n",
    "\n",
    "scores_train = []\n",
    "scores_val = []\n",
    "\n",
    "for i in range(10):\n",
    "    tree = DecisionTreeClassifier(criterion='entropy', max_depth=max_depths[i], random_state=20170826)\n",
    "\n",
    "    scores = cross_validate(tree, X_train, y_train, cv=5, return_train_score=True)\n",
    "\n",
    "    scores_train.append(scores['train_score'].mean())\n",
    "    scores_val.append(scores['test_score'].mean())\n",
    "\n",
    "    print(\"Completed Round\", i+1, \"of 10.\")"
   ]
  },
  {
   "cell_type": "code",
   "execution_count": 17,
   "metadata": {},
   "outputs": [],
   "source": [
    "depths_df = pd.DataFrame(\n",
    "    {'scores_train': scores_train,\n",
    "     'scores_val': scores_val,\n",
    "     'max_depths': max_depths}\n",
    ")"
   ]
  },
  {
   "cell_type": "code",
   "execution_count": 18,
   "metadata": {},
   "outputs": [
    {
     "data": {
      "image/png": "[encoded data removed]",
      "text/plain": [
       "<Figure size 432x288 with 1 Axes>"
      ]
     },
     "metadata": {
      "needs_background": "light"
     },
     "output_type": "display_data"
    }
   ],
   "source": [
    "plt.plot(depths_df[\"max_depths\"], depths_df[[\"scores_train\", \"scores_val\"]])\n",
    "plt.xlabel('Max Depth Size')\n",
    "plt.ylabel('Accuracy Score')\n",
    "plt.title('Decision Tree Accuracy by Max Depth')\n",
    "plt.xticks(np.arange(2,12))\n",
    "plt.legend([\"Training Set\", \"Validation Set\"])\n",
    "plt.show()"
   ]
  },
  {
   "cell_type": "markdown",
   "metadata": {},
   "source": [
    "***Chosen max depth size for the test set: 6.***"
   ]
  },
  {
   "cell_type": "code",
   "execution_count": 19,
   "metadata": {},
   "outputs": [
    {
     "name": "stdout",
     "output_type": "stream",
     "text": [
      "Completed Round 1 of 10.\n",
      "Completed Round 2 of 10.\n",
      "Completed Round 3 of 10.\n",
      "Completed Round 4 of 10.\n",
      "Completed Round 5 of 10.\n",
      "Completed Round 6 of 10.\n",
      "Completed Round 7 of 10.\n",
      "Completed Round 8 of 10.\n",
      "Completed Round 9 of 10.\n",
      "Completed Round 10 of 10.\n"
     ]
    }
   ],
   "source": [
    "# let's try one more parameter - \n",
    "min_samples_leaf = [1, 2, 3, 4, 5, 6, 7, 8, 9, 10]\n",
    "\n",
    "scores_train = []\n",
    "scores_val = []\n",
    "\n",
    "for i in range(10):\n",
    "    tree = DecisionTreeClassifier(criterion='entropy', min_samples_leaf=min_samples_leaf[i], random_state=20170826)\n",
    "\n",
    "    scores = cross_validate(tree, X_train, y_train, cv=5, return_train_score=True)\n",
    "\n",
    "    scores_train.append(scores['train_score'].mean())\n",
    "    scores_val.append(scores['test_score'].mean())\n",
    "        \n",
    "    print(\"Completed Round\", i+1, \"of 10.\")"
   ]
  },
  {
   "cell_type": "code",
   "execution_count": 20,
   "metadata": {},
   "outputs": [],
   "source": [
    "leafs_df = pd.DataFrame(\n",
    "    {'scores_train': scores_train,\n",
    "     'scores_val': scores_val,\n",
    "     'min_leafs': min_samples_leaf}\n",
    ")"
   ]
  },
  {
   "cell_type": "code",
   "execution_count": 21,
   "metadata": {},
   "outputs": [
    {
     "data": {
      "image/png": "[encoded data removed]",
      "text/plain": [
       "<Figure size 432x288 with 1 Axes>"
      ]
     },
     "metadata": {
      "needs_background": "light"
     },
     "output_type": "display_data"
    }
   ],
   "source": [
    "plt.plot(leafs_df[\"min_leafs\"], leafs_df[[\"scores_train\", \"scores_val\"]])\n",
    "plt.xlabel('Min Leaf Size')\n",
    "plt.ylabel('Accuracy Score')\n",
    "plt.title('Decision Tree Accuracy by Min Leaf Size')\n",
    "plt.xticks(np.arange(1,11))\n",
    "plt.legend([\"Training Set\", \"Validation Set\"])\n",
    "plt.show()"
   ]
  },
  {
   "cell_type": "markdown",
   "metadata": {},
   "source": [
    "***Chosen min leaf size for the test set: 10.***"
   ]
  },
  {
   "cell_type": "code",
   "execution_count": 22,
   "metadata": {},
   "outputs": [
    {
     "name": "stdout",
     "output_type": "stream",
     "text": [
      "Time to use Grid Search: 1.4566603899002075 minutes\n",
      "Final Decision Tree Test Accuracy: 0.8514121981170691\n",
      "Best Params from Grid Search: {'max_depth': 9, 'min_samples_leaf': 8}\n"
     ]
    }
   ],
   "source": [
    "# according to this, our best parameters are a max depth of 6 and a min leaf size of 10, with some variation\n",
    "start = time.time()\n",
    "\n",
    "param_grid = {'max_depth': np.arange(2,12),\n",
    "              'min_samples_leaf': np.arange(1,11)}\n",
    "\n",
    "tree_final = GridSearchCV(DecisionTreeClassifier(criterion='entropy', random_state=20170826), param_grid=param_grid)\n",
    "tree_final.fit(X_train, y_train)\n",
    "predictions = tree_final.predict(X_test)\n",
    "final_score = accuracy_score(y_test, predictions)\n",
    "\n",
    "end = time.time()\n",
    "\n",
    "print(\"Time to use Grid Search:\", (end-start)/60, \"minutes\")\n",
    "print(\"Final Decision Tree Test Accuracy:\", final_score)\n",
    "print(\"Best Params from Grid Search:\", tree_final.best_params_)"
   ]
  },
  {
   "cell_type": "code",
   "execution_count": 23,
   "metadata": {},
   "outputs": [
    {
     "name": "stdout",
     "output_type": "stream",
     "text": [
      "Final tree accuracy is performing 11.922149321582259 % better than the baseline of blind guessing.\n"
     ]
    }
   ],
   "source": [
    "print(\"Final tree accuracy is performing\", ((final_score-0.7607182343065395)/0.7607182343065395)*100, \"% better than the baseline of blind guessing.\")"
   ]
  },
  {
   "cell_type": "markdown",
   "metadata": {},
   "source": [
    "## Neural Networks"
   ]
  },
  {
   "cell_type": "code",
   "execution_count": 24,
   "metadata": {},
   "outputs": [],
   "source": [
    "## Neural Networks\n",
    "from sklearn.neural_network import MLPClassifier"
   ]
  },
  {
   "cell_type": "code",
   "execution_count": 25,
   "metadata": {},
   "outputs": [
    {
     "name": "stdout",
     "output_type": "stream",
     "text": [
      "Completed round 1 of 5\n",
      "Completed round 2 of 5\n",
      "Completed round 3 of 5\n",
      "Completed round 4 of 5\n",
      "Completed round 5 of 5\n"
     ]
    }
   ],
   "source": [
    "train_accuracy = []\n",
    "val_accuracy = []\n",
    "\n",
    "loss = []\n",
    "\n",
    "for i in range(5):\n",
    "    X_train_new, X_val, y_train_new, y_val = train_test_split(X_train, y_train, test_size=validation_sizes[i], random_state=20170826)\n",
    "    \n",
    "    mlp = MLPClassifier(hidden_layer_sizes=(100,50,100) ,activation='relu', random_state=20170826)\n",
    "    \n",
    "    mlp.fit(X_train_new, y_train_new)\n",
    "    \n",
    "    loss.append(mlp.loss_curve_)\n",
    "    \n",
    "    predictions_train = mlp.predict(X_train_new)\n",
    "    predictions_val = mlp.predict(X_val)\n",
    "    \n",
    "    train_accuracy.append(accuracy_score(y_train_new, predictions_train))\n",
    "    val_accuracy.append(accuracy_score(y_val, predictions_val))\n",
    "    \n",
    "    print(\"Completed round\", i+1, \"of 5\")"
   ]
  },
  {
   "cell_type": "code",
   "execution_count": 26,
   "metadata": {},
   "outputs": [],
   "source": [
    "training_df = pd.DataFrame(\n",
    "    {'train_accuracy': train_accuracy,\n",
    "     'val_accuracy': val_accuracy,\n",
    "     'validation_sizes': validation_sizes}\n",
    ")"
   ]
  },
  {
   "cell_type": "code",
   "execution_count": 27,
   "metadata": {},
   "outputs": [
    {
     "data": {
      "image/png": "[encoded data removed]",
      "text/plain": [
       "<Figure size 432x288 with 1 Axes>"
      ]
     },
     "metadata": {
      "needs_background": "light"
     },
     "output_type": "display_data"
    }
   ],
   "source": [
    "plt.plot(training_df[\"validation_sizes\"], training_df[[\"train_accuracy\", \"val_accuracy\"]])\n",
    "plt.xlabel('Validation Set Size')\n",
    "plt.ylabel('Model Accuracy')\n",
    "plt.title('MLP NN Accuracy by Validation and Training Set Size')\n",
    "plt.xticks([0,.1,.2,.3,.4,.5])\n",
    "plt.legend(['train_accuracy', \"val_accuracy\"])\n",
    "plt.show()"
   ]
  },
  {
   "cell_type": "code",
   "execution_count": 28,
   "metadata": {},
   "outputs": [
    {
     "data": {
      "image/png": "[encoded data removed]",
      "text/plain": [
       "<Figure size 432x288 with 1 Axes>"
      ]
     },
     "metadata": {
      "needs_background": "light"
     },
     "output_type": "display_data"
    }
   ],
   "source": [
    "for l in loss:\n",
    "    plt.plot(l)\n",
    "plt.xlabel('Iteration Number')\n",
    "plt.ylabel('Loss Value')\n",
    "plt.title('MLP NN Accuracy by Iteration Number and Training Size')\n",
    "plt.xticks(np.arange(0,51,10))\n",
    "plt.legend(['Validation=0.05', \"0.10\", \"0.20\", \"0.25\", \"0.50\"])\n",
    "plt.show()"
   ]
  },
  {
   "cell_type": "markdown",
   "metadata": {},
   "source": [
    "***Best validation set size for the hyperparameters: 0.1 - This means a k of 10 for k-fold cross validation.***"
   ]
  },
  {
   "cell_type": "code",
   "execution_count": 29,
   "metadata": {},
   "outputs": [
    {
     "name": "stdout",
     "output_type": "stream",
     "text": [
      "Completed Round 1 of 5.\n",
      "Completed Round 2 of 5.\n",
      "Completed Round 3 of 5.\n",
      "Completed Round 4 of 5.\n",
      "Completed Round 5 of 5.\n"
     ]
    }
   ],
   "source": [
    "# first we do hidden_layer_sizes\n",
    "hidden_layer_sizes = [(10,), (100,), (100,50,100), (10,5,10), (5,50,100)]\n",
    "\n",
    "scores_train = []\n",
    "scores_val = []\n",
    "\n",
    "for i in range(5):\n",
    "    mlp = MLPClassifier(hidden_layer_sizes=hidden_layer_sizes[i], random_state=20170826)\n",
    "\n",
    "    scores = cross_validate(mlp, X_train, y_train, cv=5, return_train_score=True)\n",
    "\n",
    "    scores_train.append(scores['train_score'].mean())\n",
    "    scores_val.append(scores['test_score'].mean())\n",
    "\n",
    "    print(\"Completed Round\", i+1, \"of 5.\")"
   ]
  },
  {
   "cell_type": "code",
   "execution_count": 30,
   "metadata": {},
   "outputs": [],
   "source": [
    "hidden_layer_sizes_cats = []\n",
    "for i in range(5):\n",
    "    hidden_layer_sizes_cats.append(str(hidden_layer_sizes[i]))"
   ]
  },
  {
   "cell_type": "code",
   "execution_count": 31,
   "metadata": {},
   "outputs": [],
   "source": [
    "hidden_layers_df = pd.DataFrame(\n",
    "    {'scores_train': scores_train,\n",
    "     'scores_val': scores_val,\n",
    "     'hidden_layer_sizes': hidden_layer_sizes_cats}\n",
    ")\n",
    "hidden_layers_df['hidden_layer_sizes'] = hidden_layers_df['hidden_layer_sizes'].astype('category')"
   ]
  },
  {
   "cell_type": "code",
   "execution_count": 32,
   "metadata": {},
   "outputs": [
    {
     "data": {
      "image/png": "[encoded data removed]",
      "text/plain": [
       "<Figure size 432x288 with 1 Axes>"
      ]
     },
     "metadata": {
      "needs_background": "light"
     },
     "output_type": "display_data"
    }
   ],
   "source": [
    "hidden_layers_df.plot.bar(x=\"hidden_layer_sizes\")\n",
    "plt.xlabel('Hidden Layer Sizes')\n",
    "plt.ylabel('Accuracy Score')\n",
    "plt.title('MLP Accuracy by Hidden Layer Size')\n",
    "plt.legend([\"Training Set\", \"Validation Set\"], loc='lower center')\n",
    "plt.show()"
   ]
  },
  {
   "cell_type": "markdown",
   "metadata": {},
   "source": [
    "***Chosen Hidden Layer size for the test set: (5,10,100). 3 of them performed similarly though.***"
   ]
  },
  {
   "cell_type": "code",
   "execution_count": 33,
   "metadata": {},
   "outputs": [
    {
     "name": "stdout",
     "output_type": "stream",
     "text": [
      "Completed Round 1 of 4.\n",
      "Completed Round 2 of 4.\n",
      "Completed Round 3 of 4.\n",
      "Completed Round 4 of 4.\n"
     ]
    }
   ],
   "source": [
    "# let's try one more parameter - \n",
    "activation = ['identity', 'logistic', 'tanh', 'relu']\n",
    "\n",
    "scores_train = []\n",
    "scores_val = []\n",
    "\n",
    "for i in range(4):\n",
    "    mlp = MLPClassifier(activation=activation[i], random_state=20170826)\n",
    "\n",
    "    scores = cross_validate(mlp, X_train, y_train, cv=5, return_train_score=True)\n",
    "\n",
    "    scores_train.append(scores['train_score'].mean())\n",
    "    scores_val.append(scores['test_score'].mean())\n",
    "        \n",
    "    print(\"Completed Round\", i+1, \"of 4.\")"
   ]
  },
  {
   "cell_type": "code",
   "execution_count": 34,
   "metadata": {},
   "outputs": [],
   "source": [
    "activation_cats = []\n",
    "for i in range(4):\n",
    "    activation_cats.append(str(activation[i]))"
   ]
  },
  {
   "cell_type": "code",
   "execution_count": 35,
   "metadata": {},
   "outputs": [],
   "source": [
    "activations_df = pd.DataFrame(\n",
    "    {'scores_train': scores_train,\n",
    "     'scores_val': scores_val,\n",
    "     'activation': activation_cats}\n",
    ")\n",
    "activations_df['activation'] = activations_df['activation'].astype('category')"
   ]
  },
  {
   "cell_type": "code",
   "execution_count": 36,
   "metadata": {},
   "outputs": [
    {
     "data": {
      "image/png": "[encoded data removed]",
      "text/plain": [
       "<Figure size 432x288 with 1 Axes>"
      ]
     },
     "metadata": {
      "needs_background": "light"
     },
     "output_type": "display_data"
    }
   ],
   "source": [
    "activations_df.plot.bar(x=\"activation\")\n",
    "plt.xlabel('Activation Function')\n",
    "plt.ylabel('Accuracy Score')\n",
    "plt.title('MLP Accuracy by Activation Function')\n",
    "plt.legend([\"Training Set\", \"Validation Set\"], loc='lower center')\n",
    "plt.show()"
   ]
  },
  {
   "cell_type": "markdown",
   "metadata": {},
   "source": [
    "***Chosen Activation Function for the test set: tanh.***"
   ]
  },
  {
   "cell_type": "code",
   "execution_count": 37,
   "metadata": {},
   "outputs": [
    {
     "name": "stdout",
     "output_type": "stream",
     "text": [
      "Time to use Grid Search: 9.703919545809429 minutes\n",
      "Final MLP Test Accuracy: 0.8268522308636922\n",
      "Best Params from Grid Search: {'activation': 'identity', 'hidden_layer_sizes': (5, 50, 100)}\n"
     ]
    }
   ],
   "source": [
    "# according to this, our best parameters are a hidden layer size of (5,10,100) and an activtion function of identity, with some variation\n",
    "start = time.time()\n",
    "\n",
    "param_grid = {'activation': ['identity', 'logistic', 'tanh', 'relu'],\n",
    "              'hidden_layer_sizes':[(10,), (100,), (100,50,100), (10,5,10), (5,50,100)]}\n",
    "\n",
    "mlp_final = GridSearchCV(MLPClassifier(random_state=20170826), param_grid=param_grid)\n",
    "mlp_final.fit(X_train, y_train)\n",
    "predictions = mlp_final.predict(X_test)\n",
    "final_score = accuracy_score(y_test, predictions)\n",
    "\n",
    "end = time.time()\n",
    "\n",
    "print(\"Time to use Grid Search:\", (end-start)/60, \"minutes\")\n",
    "print(\"Final MLP Test Accuracy:\", final_score)\n",
    "print(\"Best Params from Grid Search:\", mlp_final.best_params_)"
   ]
  },
  {
   "cell_type": "code",
   "execution_count": 38,
   "metadata": {},
   "outputs": [
    {
     "name": "stdout",
     "output_type": "stream",
     "text": [
      "Final MLP accuracy is performing 8.6936257834597 % better than the baseline of blind guessing.\n"
     ]
    }
   ],
   "source": [
    "print(\"Final MLP accuracy is performing\", ((final_score-0.7607182343065395)/0.7607182343065395)*100, \"% better than the baseline of blind guessing.\")"
   ]
  },
  {
   "cell_type": "markdown",
   "metadata": {},
   "source": [
    "## Boosting"
   ]
  },
  {
   "cell_type": "code",
   "execution_count": 39,
   "metadata": {},
   "outputs": [],
   "source": [
    "## BOOSTING\n",
    "from sklearn.ensemble import GradientBoostingClassifier"
   ]
  },
  {
   "cell_type": "code",
   "execution_count": 40,
   "metadata": {},
   "outputs": [
    {
     "name": "stdout",
     "output_type": "stream",
     "text": [
      "Completed round 1 of 5\n",
      "Completed round 2 of 5\n",
      "Completed round 3 of 5\n",
      "Completed round 4 of 5\n",
      "Completed round 5 of 5\n"
     ]
    }
   ],
   "source": [
    "train_accuracy = []\n",
    "val_accuracy = []\n",
    "\n",
    "for i in range(5):\n",
    "    X_train_new, X_val, y_train_new, y_val = train_test_split(X_train, y_train, test_size=validation_sizes[i], random_state=20170826)\n",
    "    \n",
    "    boost = GradientBoostingClassifier(max_depth=3, min_samples_leaf=2, random_state=20170826)\n",
    "    \n",
    "    boost.fit(X_train_new, y_train_new)\n",
    "    \n",
    "    predictions_train = boost.predict(X_train_new)\n",
    "    predictions_val = boost.predict(X_val)\n",
    "    \n",
    "    train_accuracy.append(accuracy_score(y_train_new, predictions_train))\n",
    "    val_accuracy.append(accuracy_score(y_val, predictions_val))\n",
    "    \n",
    "    print(\"Completed round\", i+1, \"of 5\")"
   ]
  },
  {
   "cell_type": "code",
   "execution_count": 41,
   "metadata": {},
   "outputs": [],
   "source": [
    "training_df = pd.DataFrame(\n",
    "    {'train_accuracy': train_accuracy,\n",
    "     'val_accuracy': val_accuracy,\n",
    "     'validation_sizes': validation_sizes}\n",
    ")"
   ]
  },
  {
   "cell_type": "code",
   "execution_count": 42,
   "metadata": {},
   "outputs": [
    {
     "data": {
      "image/png": "[encoded data removed]",
      "text/plain": [
       "<Figure size 432x288 with 1 Axes>"
      ]
     },
     "metadata": {
      "needs_background": "light"
     },
     "output_type": "display_data"
    }
   ],
   "source": [
    "plt.plot(training_df[\"validation_sizes\"], training_df[[\"train_accuracy\", \"val_accuracy\"]])\n",
    "plt.xlabel('Validation Set Size')\n",
    "plt.ylabel('Model Accuracy')\n",
    "plt.title('Boosted Tree Accuracy by Validation and Training Set Size')\n",
    "plt.xticks([0,.1,.2,.3,.4,.5])\n",
    "plt.legend(['train_accuracy', \"val_accuracy\"])\n",
    "plt.show()"
   ]
  },
  {
   "cell_type": "markdown",
   "metadata": {},
   "source": [
    "***Best validation set size for the hyperparameters: 0.1 - This means a k of 10 for k-fold cross validation.***"
   ]
  },
  {
   "cell_type": "code",
   "execution_count": 43,
   "metadata": {},
   "outputs": [
    {
     "name": "stdout",
     "output_type": "stream",
     "text": [
      "Completed Round 1 of 10.\n",
      "Completed Round 2 of 10.\n",
      "Completed Round 3 of 10.\n",
      "Completed Round 4 of 10.\n",
      "Completed Round 5 of 10.\n",
      "Completed Round 6 of 10.\n",
      "Completed Round 7 of 10.\n",
      "Completed Round 8 of 10.\n",
      "Completed Round 9 of 10.\n",
      "Completed Round 10 of 10.\n"
     ]
    }
   ],
   "source": [
    "# first we do pruning - max depth parameter\n",
    "max_depths = [2, 3, 4, 5, 6, 7, 8, 9, 10, 11]\n",
    "\n",
    "scores_train = []\n",
    "scores_val = []\n",
    "\n",
    "for i in range(10):\n",
    "    boost = GradientBoostingClassifier(max_depth=max_depths[i], random_state=20170826)\n",
    "\n",
    "    scores = cross_validate(boost, X_train, y_train, cv=5, return_train_score=True)\n",
    "\n",
    "    scores_train.append(scores['train_score'].mean())\n",
    "    scores_val.append(scores['test_score'].mean())\n",
    "\n",
    "    print(\"Completed Round\", i+1, \"of 10.\")"
   ]
  },
  {
   "cell_type": "code",
   "execution_count": 44,
   "metadata": {},
   "outputs": [],
   "source": [
    "boosted_depths_df = pd.DataFrame(\n",
    "    {'scores_train': scores_train,\n",
    "     'scores_val': scores_val,\n",
    "     'max_depths': max_depths}\n",
    ")"
   ]
  },
  {
   "cell_type": "code",
   "execution_count": 45,
   "metadata": {},
   "outputs": [
    {
     "data": {
      "image/png": "[encoded data removed]",
      "text/plain": [
       "<Figure size 432x288 with 1 Axes>"
      ]
     },
     "metadata": {
      "needs_background": "light"
     },
     "output_type": "display_data"
    }
   ],
   "source": [
    "plt.plot(boosted_depths_df[\"max_depths\"], boosted_depths_df[[\"scores_train\", \"scores_val\"]])\n",
    "plt.xlabel('Max Depth Size')\n",
    "plt.ylabel('Accuracy Score')\n",
    "plt.title('Boosted Decision Tree Accuracy by Max Depth')\n",
    "plt.xticks(np.arange(2,12))\n",
    "plt.legend([\"Training Set\", \"Validation Set\"])\n",
    "plt.show()"
   ]
  },
  {
   "cell_type": "markdown",
   "metadata": {},
   "source": [
    "***Chosen max depth size for the test set: 2.***"
   ]
  },
  {
   "cell_type": "code",
   "execution_count": 46,
   "metadata": {},
   "outputs": [
    {
     "name": "stdout",
     "output_type": "stream",
     "text": [
      "Completed Round 1 of 10.\n",
      "Completed Round 2 of 10.\n",
      "Completed Round 3 of 10.\n",
      "Completed Round 4 of 10.\n",
      "Completed Round 5 of 10.\n",
      "Completed Round 6 of 10.\n",
      "Completed Round 7 of 10.\n",
      "Completed Round 8 of 10.\n",
      "Completed Round 9 of 10.\n",
      "Completed Round 10 of 10.\n"
     ]
    }
   ],
   "source": [
    "# let's try one more parameter - \n",
    "min_samples_leaf = [1, 2, 3, 4, 5, 6, 7, 8, 9, 10]\n",
    "\n",
    "scores_train = []\n",
    "scores_val = []\n",
    "\n",
    "for i in range(10):\n",
    "    boost = GradientBoostingClassifier(min_samples_leaf=min_samples_leaf[i], random_state=20170826)\n",
    "\n",
    "    scores = cross_validate(boost, X_train, y_train, cv=5, return_train_score=True)\n",
    "\n",
    "    scores_train.append(scores['train_score'].mean())\n",
    "    scores_val.append(scores['test_score'].mean())\n",
    "        \n",
    "    print(\"Completed Round\", i+1, \"of 10.\")"
   ]
  },
  {
   "cell_type": "code",
   "execution_count": 47,
   "metadata": {},
   "outputs": [],
   "source": [
    "boosted_leafs_df = pd.DataFrame(\n",
    "    {'scores_train': scores_train,\n",
    "     'scores_val': scores_val,\n",
    "     'min_leafs': min_samples_leaf}\n",
    ")"
   ]
  },
  {
   "cell_type": "code",
   "execution_count": 48,
   "metadata": {},
   "outputs": [
    {
     "data": {
      "image/png": "[encoded data removed]",
      "text/plain": [
       "<Figure size 432x288 with 1 Axes>"
      ]
     },
     "metadata": {
      "needs_background": "light"
     },
     "output_type": "display_data"
    }
   ],
   "source": [
    "plt.plot(boosted_leafs_df[\"min_leafs\"], boosted_leafs_df[[\"scores_train\", \"scores_val\"]])\n",
    "plt.xlabel('Min Leaf Size')\n",
    "plt.ylabel('Accuracy Score')\n",
    "plt.title('Boosted Tree Accuracy by Min Leaf Size')\n",
    "plt.xticks(np.arange(1,11))\n",
    "plt.legend([\"Training Set\", \"Validation Set\"])\n",
    "plt.show()"
   ]
  },
  {
   "cell_type": "markdown",
   "metadata": {},
   "source": [
    "***Chosen min leaf size for the test set: any...let's say 10. They're all bad.***"
   ]
  },
  {
   "cell_type": "code",
   "execution_count": 49,
   "metadata": {},
   "outputs": [
    {
     "name": "stdout",
     "output_type": "stream",
     "text": [
      "Time to use Grid Search: 107.95110465288163 minutes\n",
      "Final Boosted Tree Test Accuracy: 0.8649201801064266\n",
      "Best Params from Grid Search: {'max_depth': 6, 'min_samples_leaf': 3}\n"
     ]
    }
   ],
   "source": [
    "# according to this, our best parameters are a max depth of 2 and a min leaf size of 10, with some variation\n",
    "start = time.time()\n",
    "\n",
    "param_grid = {'max_depth': np.arange(2,12),\n",
    "              'min_samples_leaf': np.arange(1,11)}\n",
    "\n",
    "boost_final = GridSearchCV(GradientBoostingClassifier(random_state=20170826), param_grid=param_grid)\n",
    "boost_final.fit(X_train, y_train)\n",
    "predictions = boost_final.predict(X_test)\n",
    "final_score = accuracy_score(y_test, predictions)\n",
    "\n",
    "end = time.time()\n",
    "\n",
    "print(\"Time to use Grid Search:\", (end-start)/60, \"minutes\")\n",
    "print(\"Final Boosted Tree Test Accuracy:\", final_score)\n",
    "print(\"Best Params from Grid Search:\", boost_final.best_params_)"
   ]
  },
  {
   "cell_type": "code",
   "execution_count": 50,
   "metadata": {},
   "outputs": [
    {
     "name": "stdout",
     "output_type": "stream",
     "text": [
      "Final boosted tree accuracy is performing 13.697837267549682 % better than the baseline of blind guessing.\n"
     ]
    }
   ],
   "source": [
    "print(\"Final boosted tree accuracy is performing\", ((final_score-0.7607182343065395)/0.7607182343065395)*100, \"% better than the baseline of blind guessing.\")"
   ]
  },
  {
   "cell_type": "markdown",
   "metadata": {},
   "source": [
    "## SVM"
   ]
  },
  {
   "cell_type": "markdown",
   "metadata": {},
   "source": [
    "***SVM for this dataset requires me to hardcode the max_iter hyperparameter; more on this in the report.***."
   ]
  },
  {
   "cell_type": "code",
   "execution_count": 51,
   "metadata": {},
   "outputs": [],
   "source": [
    "## SVM\n",
    "from sklearn.svm import SVC"
   ]
  },
  {
   "cell_type": "code",
   "execution_count": 52,
   "metadata": {},
   "outputs": [
    {
     "name": "stdout",
     "output_type": "stream",
     "text": [
      "Completed round 1 of 5\n",
      "Completed round 2 of 5\n",
      "Completed round 3 of 5\n",
      "Completed round 4 of 5\n",
      "Completed round 5 of 5\n"
     ]
    }
   ],
   "source": [
    "train_accuracy = []\n",
    "val_accuracy = []\n",
    "\n",
    "for i in range(5):\n",
    "    X_train_new, X_val, y_train_new, y_val = train_test_split(X_train, y_train, test_size=validation_sizes[i], random_state=20170826)\n",
    "    \n",
    "    svm = SVC(kernel='rbf', max_iter=1000, random_state=20170826)\n",
    "    \n",
    "    svm.fit(X_train_new, y_train_new)\n",
    "    \n",
    "    predictions_train = svm.predict(X_train_new)\n",
    "    predictions_val = svm.predict(X_val)\n",
    "    \n",
    "    train_accuracy.append(accuracy_score(y_train_new, predictions_train))\n",
    "    val_accuracy.append(accuracy_score(y_val, predictions_val))\n",
    "    \n",
    "    print(\"Completed round\", i+1, \"of 5\")"
   ]
  },
  {
   "cell_type": "code",
   "execution_count": 53,
   "metadata": {},
   "outputs": [],
   "source": [
    "training_df = pd.DataFrame(\n",
    "    {'train_accuracy': train_accuracy,\n",
    "     'val_accuracy': val_accuracy,\n",
    "     'validation_sizes': validation_sizes}\n",
    ")"
   ]
  },
  {
   "cell_type": "code",
   "execution_count": 54,
   "metadata": {},
   "outputs": [
    {
     "data": {
      "image/png": "[encoded data removed]",
      "text/plain": [
       "<Figure size 432x288 with 1 Axes>"
      ]
     },
     "metadata": {
      "needs_background": "light"
     },
     "output_type": "display_data"
    }
   ],
   "source": [
    "plt.plot(training_df[\"validation_sizes\"], training_df[[\"train_accuracy\", \"val_accuracy\"]])\n",
    "plt.xlabel('Validation Set Size')\n",
    "plt.ylabel('Model Accuracy')\n",
    "plt.title('SVM Accuracy by Validation and Training Set Size')\n",
    "plt.xticks([0,.1,.2,.3,.4,.5])\n",
    "plt.legend(['train_accuracy', \"val_accuracy\"])\n",
    "plt.show()"
   ]
  },
  {
   "cell_type": "markdown",
   "metadata": {},
   "source": [
    "***Best validation set size for the hyperparameters: 0.1 - This means a k of 10 for k-fold cross validation.***"
   ]
  },
  {
   "cell_type": "code",
   "execution_count": 55,
   "metadata": {},
   "outputs": [
    {
     "name": "stdout",
     "output_type": "stream",
     "text": [
      "Completed Round 1 of 4.\n",
      "Completed Round 2 of 4.\n",
      "Completed Round 3 of 4.\n",
      "Completed Round 4 of 4.\n"
     ]
    }
   ],
   "source": [
    "# first we do kernel types\n",
    "kernel = ['linear', 'poly', 'rbf', 'sigmoid']\n",
    "\n",
    "scores_train = []\n",
    "scores_val = []\n",
    "\n",
    "for i in range(4):\n",
    "    svm = SVC(kernel=kernel[i], max_iter=1000, random_state=20170826)\n",
    "\n",
    "    scores = cross_validate(svm, X_train, y_train, cv=5, return_train_score=True)\n",
    "\n",
    "    scores_train.append(scores['train_score'].mean())\n",
    "    scores_val.append(scores['test_score'].mean())\n",
    "\n",
    "    print(\"Completed Round\", i+1, \"of 4.\")"
   ]
  },
  {
   "cell_type": "code",
   "execution_count": 56,
   "metadata": {},
   "outputs": [],
   "source": [
    "kernel_cats = []\n",
    "for i in range(4):\n",
    "    kernel_cats.append(str(kernel[i]))"
   ]
  },
  {
   "cell_type": "code",
   "execution_count": 57,
   "metadata": {},
   "outputs": [],
   "source": [
    "kernels_df = pd.DataFrame(\n",
    "    {'scores_train': scores_train,\n",
    "     'scores_val': scores_val,\n",
    "     'kernel': kernel_cats}\n",
    ")\n",
    "kernels_df['kernel'] = kernels_df['kernel'].astype('category')"
   ]
  },
  {
   "cell_type": "code",
   "execution_count": 58,
   "metadata": {},
   "outputs": [
    {
     "data": {
      "image/png": "[encoded data removed]",
      "text/plain": [
       "<Figure size 432x288 with 1 Axes>"
      ]
     },
     "metadata": {
      "needs_background": "light"
     },
     "output_type": "display_data"
    }
   ],
   "source": [
    "kernels_df.plot.bar(x=\"kernel\")\n",
    "plt.xlabel('Kernels')\n",
    "plt.ylabel('Accuracy Score')\n",
    "plt.title('SVM Accuracy by Kernel Type')\n",
    "plt.legend([\"Training Set\", \"Validation Set\"], loc='lower center')\n",
    "plt.show()"
   ]
  },
  {
   "cell_type": "markdown",
   "metadata": {},
   "source": [
    "***Chosen Kernel for the test set: linear.***"
   ]
  },
  {
   "cell_type": "code",
   "execution_count": 59,
   "metadata": {},
   "outputs": [
    {
     "name": "stdout",
     "output_type": "stream",
     "text": [
      "Completed Round 1 of 5.\n",
      "Completed Round 2 of 5.\n",
      "Completed Round 3 of 5.\n",
      "Completed Round 4 of 5.\n",
      "Completed Round 5 of 5.\n"
     ]
    }
   ],
   "source": [
    "# let's try one more parameter - \n",
    "max_iter = [5, 50, 100, 500, 1000]\n",
    "\n",
    "scores_train = []\n",
    "scores_val = []\n",
    "\n",
    "for i in range(5):\n",
    "    svm = SVC(max_iter=max_iter[i], random_state=20170826)\n",
    "\n",
    "    scores = cross_validate(svm, X_train, y_train, cv=5, return_train_score=True)\n",
    "\n",
    "    scores_train.append(scores['train_score'].mean())\n",
    "    scores_val.append(scores['test_score'].mean())\n",
    "        \n",
    "    print(\"Completed Round\", i+1, \"of 5.\")"
   ]
  },
  {
   "cell_type": "code",
   "execution_count": 60,
   "metadata": {},
   "outputs": [],
   "source": [
    "iter_df = pd.DataFrame(\n",
    "    {'scores_train': scores_train,\n",
    "     'scores_val': scores_val,\n",
    "     'max_iter': max_iter}\n",
    ")"
   ]
  },
  {
   "cell_type": "code",
   "execution_count": 61,
   "metadata": {},
   "outputs": [
    {
     "data": {
      "image/png": "[encoded data removed]",
      "text/plain": [
       "<Figure size 432x288 with 1 Axes>"
      ]
     },
     "metadata": {
      "needs_background": "light"
     },
     "output_type": "display_data"
    }
   ],
   "source": [
    "plt.plot(iter_df[\"max_iter\"], iter_df[[\"scores_train\", \"scores_val\"]])\n",
    "plt.xlabel('Max Iteration Size')\n",
    "plt.ylabel('Accuracy Score')\n",
    "plt.title('SVM Accuracy by Max Iterations Parameter')\n",
    "plt.xticks([5,10,10,500,1000])\n",
    "plt.legend([\"Training Set\", \"Validation Set\"])\n",
    "plt.show()"
   ]
  },
  {
   "cell_type": "markdown",
   "metadata": {},
   "source": [
    "***Chosen max iter size for the test set: 500.***"
   ]
  },
  {
   "cell_type": "markdown",
   "metadata": {},
   "source": [
    "***Note that the final metric below is with a hard stop of 1000 iterations at most. This needed to be set as the SVM code will always time out locally for me with a max_iter value of -1. The dataset is too large for computing anything more than 5 digits in this parameter, so the time metric should be ignored if possible***."
   ]
  },
  {
   "cell_type": "code",
   "execution_count": 62,
   "metadata": {},
   "outputs": [
    {
     "name": "stdout",
     "output_type": "stream",
     "text": [
      "Time to use Grid Search: 2.142157475153605 minutes\n",
      "Final SVM Test Accuracy: 0.7548096602537864\n",
      "Best Params from Grid Search: {'kernel': 'linear', 'max_iter': 50}\n"
     ]
    }
   ],
   "source": [
    "# according to this, our best parameters are a kernel of linear and a degree size of 3, with some variation\n",
    "start = time.time()\n",
    "\n",
    "param_grid = {'kernel': ['linear', 'poly', 'rbf', 'sigmoid'],\n",
    "              'max_iter': [5, 50, 100, 500, 1000]}\n",
    "\n",
    "svm_final = GridSearchCV(SVC(random_state=20170826), param_grid=param_grid)\n",
    "svm_final.fit(X_train, y_train)\n",
    "predictions = svm_final.predict(X_test)\n",
    "final_score = accuracy_score(y_test, predictions)\n",
    "\n",
    "end = time.time()\n",
    "\n",
    "print(\"Time to use Grid Search:\", (end-start)/60, \"minutes\")\n",
    "print(\"Final SVM Test Accuracy:\", final_score)\n",
    "print(\"Best Params from Grid Search:\", svm_final.best_params_)"
   ]
  },
  {
   "cell_type": "code",
   "execution_count": 63,
   "metadata": {},
   "outputs": [
    {
     "name": "stdout",
     "output_type": "stream",
     "text": [
      "Final boosted tree accuracy is performing -0.7767099283664879 % better than the baseline of blind guessing.\n"
     ]
    }
   ],
   "source": [
    "print(\"Final boosted tree accuracy is performing\", ((final_score-0.7607182343065395)/0.7607182343065395)*100, \"% better than the baseline of blind guessing.\")"
   ]
  },
  {
   "cell_type": "markdown",
   "metadata": {},
   "source": [
    "## KNN"
   ]
  },
  {
   "cell_type": "code",
   "execution_count": 64,
   "metadata": {},
   "outputs": [],
   "source": [
    "## KNN\n",
    "from sklearn.neighbors import KNeighborsClassifier"
   ]
  },
  {
   "cell_type": "code",
   "execution_count": 65,
   "metadata": {},
   "outputs": [
    {
     "name": "stdout",
     "output_type": "stream",
     "text": [
      "Completed round 1 of 5\n",
      "Completed round 2 of 5\n",
      "Completed round 3 of 5\n",
      "Completed round 4 of 5\n",
      "Completed round 5 of 5\n"
     ]
    }
   ],
   "source": [
    "train_accuracy = []\n",
    "val_accuracy = []\n",
    "\n",
    "for i in range(5):\n",
    "    X_train_new, X_val, y_train_new, y_val = train_test_split(X_train, y_train, test_size=validation_sizes[i], random_state=20170826)\n",
    "    \n",
    "    knn = KNeighborsClassifier(n_neighbors=5, metric='minkowski')\n",
    "    \n",
    "    knn.fit(X_train_new, y_train_new)\n",
    "    \n",
    "    predictions_train = knn.predict(X_train_new)\n",
    "    predictions_val = knn.predict(X_val)\n",
    "    \n",
    "    train_accuracy.append(accuracy_score(y_train_new, predictions_train))\n",
    "    val_accuracy.append(accuracy_score(y_val, predictions_val))\n",
    "    \n",
    "    print(\"Completed round\", i+1, \"of 5\")"
   ]
  },
  {
   "cell_type": "code",
   "execution_count": 66,
   "metadata": {},
   "outputs": [],
   "source": [
    "training_df = pd.DataFrame(\n",
    "    {'train_accuracy': train_accuracy,\n",
    "     'val_accuracy': val_accuracy,\n",
    "     'validation_sizes': validation_sizes}\n",
    ")"
   ]
  },
  {
   "cell_type": "code",
   "execution_count": 67,
   "metadata": {},
   "outputs": [
    {
     "data": {
      "image/png": "[encoded data removed]",
      "text/plain": [
       "<Figure size 432x288 with 1 Axes>"
      ]
     },
     "metadata": {
      "needs_background": "light"
     },
     "output_type": "display_data"
    }
   ],
   "source": [
    "plt.plot(training_df[\"validation_sizes\"], training_df[[\"train_accuracy\", \"val_accuracy\"]])\n",
    "plt.xlabel('Validation Set Size')\n",
    "plt.ylabel('Model Accuracy')\n",
    "plt.title('KNN Accuracy by Validation and Training Set Size')\n",
    "plt.xticks([0,.1,.2,.3,.4,.5])\n",
    "plt.legend(['train_accuracy', \"val_accuracy\"])\n",
    "plt.show()"
   ]
  },
  {
   "cell_type": "markdown",
   "metadata": {},
   "source": [
    "***Best validation set size for the hyperparameters: 0.2 - This means a k of 5 for k-fold cross validation.***"
   ]
  },
  {
   "cell_type": "code",
   "execution_count": 68,
   "metadata": {},
   "outputs": [
    {
     "name": "stdout",
     "output_type": "stream",
     "text": [
      "Completed Round 1 of 10.\n",
      "Completed Round 2 of 10.\n",
      "Completed Round 3 of 10.\n",
      "Completed Round 4 of 10.\n",
      "Completed Round 5 of 10.\n",
      "Completed Round 6 of 10.\n",
      "Completed Round 7 of 10.\n",
      "Completed Round 8 of 10.\n",
      "Completed Round 9 of 10.\n",
      "Completed Round 10 of 10.\n"
     ]
    }
   ],
   "source": [
    "# first we do neighbors - n_neighbors parameter\n",
    "n_neighbors = np.arange(1,11)\n",
    "\n",
    "scores_train = []\n",
    "scores_val = []\n",
    "\n",
    "for i in range(10):\n",
    "    knn = KNeighborsClassifier(n_neighbors=n_neighbors[i])\n",
    "\n",
    "    scores = cross_validate(knn, X_train, y_train, cv=5, return_train_score=True)\n",
    "\n",
    "    scores_train.append(scores['train_score'].mean())\n",
    "    scores_val.append(scores['test_score'].mean())\n",
    "\n",
    "    print(\"Completed Round\", i+1, \"of 10.\")"
   ]
  },
  {
   "cell_type": "code",
   "execution_count": 69,
   "metadata": {},
   "outputs": [],
   "source": [
    "neighbors_df = pd.DataFrame(\n",
    "    {'scores_train': scores_train,\n",
    "     'scores_val': scores_val,\n",
    "     'n_neighbors': n_neighbors}\n",
    ")"
   ]
  },
  {
   "cell_type": "code",
   "execution_count": 70,
   "metadata": {},
   "outputs": [
    {
     "data": {
      "image/png": "[encoded data removed]",
      "text/plain": [
       "<Figure size 432x288 with 1 Axes>"
      ]
     },
     "metadata": {
      "needs_background": "light"
     },
     "output_type": "display_data"
    }
   ],
   "source": [
    "plt.plot(neighbors_df[\"n_neighbors\"], neighbors_df[[\"scores_train\", \"scores_val\"]])\n",
    "plt.xlabel('K Neighbor Size')\n",
    "plt.ylabel('Accuracy Score')\n",
    "plt.title('KNN Accuracy by K Neighbor Size')\n",
    "plt.xticks(np.arange(1,11))\n",
    "plt.legend([\"Training Set\", \"Validation Set\"])\n",
    "plt.show()"
   ]
  },
  {
   "cell_type": "markdown",
   "metadata": {},
   "source": [
    "***Chosen K neighbors size for the test set: 10.***"
   ]
  },
  {
   "cell_type": "code",
   "execution_count": 71,
   "metadata": {},
   "outputs": [
    {
     "name": "stdout",
     "output_type": "stream",
     "text": [
      "Completed Round 1 of 4.\n",
      "Completed Round 2 of 4.\n",
      "Completed Round 3 of 4.\n",
      "Completed Round 4 of 4.\n"
     ]
    }
   ],
   "source": [
    "# let's try one more parameter - \n",
    "metric = ['euclidean', 'manhattan', 'chebyshev', 'minkowski']\n",
    "\n",
    "scores_train = []\n",
    "scores_val = []\n",
    "\n",
    "for i in range(4):\n",
    "    knn = KNeighborsClassifier(metric=metric[i])\n",
    "\n",
    "    scores = cross_validate(knn, X_train, y_train, cv=5, return_train_score=True)\n",
    "\n",
    "    scores_train.append(scores['train_score'].mean())\n",
    "    scores_val.append(scores['test_score'].mean())\n",
    "        \n",
    "    print(\"Completed Round\", i+1, \"of 4.\")"
   ]
  },
  {
   "cell_type": "code",
   "execution_count": 72,
   "metadata": {},
   "outputs": [],
   "source": [
    "metric_cats = []\n",
    "for i in range(4):\n",
    "    metric_cats.append(str(metric[i]))"
   ]
  },
  {
   "cell_type": "code",
   "execution_count": 73,
   "metadata": {},
   "outputs": [],
   "source": [
    "metrics_df = pd.DataFrame(\n",
    "    {'scores_train': scores_train,\n",
    "     'scores_val': scores_val,\n",
    "     'metric': metric_cats}\n",
    ")\n",
    "metrics_df['metric'] = metrics_df['metric'].astype('category')"
   ]
  },
  {
   "cell_type": "code",
   "execution_count": 74,
   "metadata": {},
   "outputs": [
    {
     "data": {
      "image/png": "[encoded data removed]",
      "text/plain": [
       "<Figure size 432x288 with 1 Axes>"
      ]
     },
     "metadata": {
      "needs_background": "light"
     },
     "output_type": "display_data"
    }
   ],
   "source": [
    "metrics_df.plot.bar(x=\"metric\")\n",
    "plt.xlabel('KNN Distance Metric')\n",
    "plt.ylabel('Accuracy Score')\n",
    "plt.title('KNN Accuracy by Distance Metric')\n",
    "plt.legend([\"Training Set\", \"Validation Set\"], loc='lower center')\n",
    "plt.show()"
   ]
  },
  {
   "cell_type": "markdown",
   "metadata": {},
   "source": [
    "***Chosen Distance Metric for the test set: manhattan.***"
   ]
  },
  {
   "cell_type": "markdown",
   "metadata": {},
   "source": [
    "***Similarly to SVMs, and since all distance metrics look to have performed the same for this dataset, I had to reduce the grid search in the final output to just one metric (manhattan) - the code will keep timing out otherwise. The final metric of time for all four will technically be around 4 times of what is displayed below.***"
   ]
  },
  {
   "cell_type": "code",
   "execution_count": 75,
   "metadata": {},
   "outputs": [
    {
     "name": "stdout",
     "output_type": "stream",
     "text": [
      "Time to use Grid Search: 43.554871221383415 minutes\n",
      "Final KNN Test Accuracy: 0.7986082685223086\n",
      "Best Params from Grid Search: {'metric': 'manhattan', 'n_neighbors': 10}\n"
     ]
    }
   ],
   "source": [
    "# according to this, our best parameters are a K neighbors size of 5 and a distance metric of manhattan, with some variation\n",
    "start = time.time()\n",
    "\n",
    "param_grid = {'metric': ['manhattan'],\n",
    "              'n_neighbors':np.arange(1,11)}\n",
    "\n",
    "knn_final = GridSearchCV(KNeighborsClassifier(), param_grid=param_grid)\n",
    "knn_final.fit(X_train, y_train)\n",
    "predictions = knn_final.predict(X_test)\n",
    "final_score = accuracy_score(y_test, predictions)\n",
    "\n",
    "end = time.time()\n",
    "\n",
    "print(\"Time to use Grid Search:\", (end-start)/60, \"minutes\")\n",
    "print(\"Final KNN Test Accuracy:\", final_score)\n",
    "print(\"Best Params from Grid Search:\", knn_final.best_params_)"
   ]
  },
  {
   "cell_type": "code",
   "execution_count": 76,
   "metadata": {},
   "outputs": [
    {
     "name": "stdout",
     "output_type": "stream",
     "text": [
      "Final MLP accuracy is performing 4.980823714618742 % better than the baseline of blind guessing.\n"
     ]
    }
   ],
   "source": [
    "print(\"Final MLP accuracy is performing\", ((final_score-0.7607182343065395)/0.7607182343065395)*100, \"% better than the baseline of blind guessing.\")"
   ]
  },
  {
   "cell_type": "markdown",
   "metadata": {},
   "source": [
    "***Models on this dataset FINISHED - see accompanying .ipynb notebook for other dataset.***"
   ]
  },
  {
   "cell_type": "code",
   "execution_count": null,
   "metadata": {},
   "outputs": [],
   "source": []
  }
 ],
 "metadata": {
  "kernelspec": {
   "display_name": "Python 3 (ipykernel)",
   "language": "python",
   "name": "python3"
  },
  "language_info": {
   "codemirror_mode": {
    "name": "ipython",
    "version": 3
   },
   "file_extension": ".py",
   "mimetype": "text/x-python",
   "name": "python",
   "nbconvert_exporter": "python",
   "pygments_lexer": "ipython3",
   "version": "3.9.7"
  }
 },
 "nbformat": 4,
 "nbformat_minor": 4
}
