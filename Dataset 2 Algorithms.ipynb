{
 "cells": [
  {
   "cell_type": "markdown",
   "metadata": {},
   "source": [
    "# OMSCS CS7641\n",
    "# Machine Learning\n",
    "# Allan Hammer\n",
    "# Project 1"
   ]
  },
  {
   "cell_type": "markdown",
   "metadata": {},
   "source": [
    "### Why?\n",
    "The purpose of this project is to explore some techniques in supervised learning. It is important to realize that understanding an algorithm or technique requires understanding how it behaves under a variety of circumstances. As such, you will be asked to \"implement\" some simple learning algorithms (for sufficiently small values of implement, meaning I don't really want you to implement anything at all), and to compare their performance..."
   ]
  },
  {
   "cell_type": "code",
   "execution_count": 1,
   "metadata": {},
   "outputs": [],
   "source": [
    "import pandas as pd\n",
    "import numpy as np\n",
    "import matplotlib.pyplot as plt\n",
    "import time\n",
    "import warnings\n",
    "warnings.filterwarnings(\"ignore\")"
   ]
  },
  {
   "cell_type": "markdown",
   "metadata": {},
   "source": [
    "## Dataset 2: Diabetes Prediction"
   ]
  },
  {
   "cell_type": "code",
   "execution_count": 2,
   "metadata": {},
   "outputs": [],
   "source": [
    "# dataset 2\n",
    "# https://www.kaggle.com/vikasukani/diabetes-data-set\n",
    "dat = pd.read_csv(\"diabetes-dataset.csv\")"
   ]
  },
  {
   "cell_type": "code",
   "execution_count": 3,
   "metadata": {},
   "outputs": [
    {
     "data": {
      "text/html": [
       "<div>\n",
       "<style scoped>\n",
       "    .dataframe tbody tr th:only-of-type {\n",
       "        vertical-align: middle;\n",
       "    }\n",
       "\n",
       "    .dataframe tbody tr th {\n",
       "        vertical-align: top;\n",
       "    }\n",
       "\n",
       "    .dataframe thead th {\n",
       "        text-align: right;\n",
       "    }\n",
       "</style>\n",
       "<table border=\"1\" class=\"dataframe\">\n",
       "  <thead>\n",
       "    <tr style=\"text-align: right;\">\n",
       "      <th></th>\n",
       "      <th>Pregnancies</th>\n",
       "      <th>Glucose</th>\n",
       "      <th>BloodPressure</th>\n",
       "      <th>SkinThickness</th>\n",
       "      <th>Insulin</th>\n",
       "      <th>BMI</th>\n",
       "      <th>DiabetesPedigreeFunction</th>\n",
       "      <th>Age</th>\n",
       "      <th>Outcome</th>\n",
       "    </tr>\n",
       "  </thead>\n",
       "  <tbody>\n",
       "    <tr>\n",
       "      <th>0</th>\n",
       "      <td>2</td>\n",
       "      <td>138</td>\n",
       "      <td>62</td>\n",
       "      <td>35</td>\n",
       "      <td>0</td>\n",
       "      <td>33.6</td>\n",
       "      <td>0.127</td>\n",
       "      <td>47</td>\n",
       "      <td>1</td>\n",
       "    </tr>\n",
       "    <tr>\n",
       "      <th>1</th>\n",
       "      <td>0</td>\n",
       "      <td>84</td>\n",
       "      <td>82</td>\n",
       "      <td>31</td>\n",
       "      <td>125</td>\n",
       "      <td>38.2</td>\n",
       "      <td>0.233</td>\n",
       "      <td>23</td>\n",
       "      <td>0</td>\n",
       "    </tr>\n",
       "    <tr>\n",
       "      <th>2</th>\n",
       "      <td>0</td>\n",
       "      <td>145</td>\n",
       "      <td>0</td>\n",
       "      <td>0</td>\n",
       "      <td>0</td>\n",
       "      <td>44.2</td>\n",
       "      <td>0.630</td>\n",
       "      <td>31</td>\n",
       "      <td>1</td>\n",
       "    </tr>\n",
       "    <tr>\n",
       "      <th>3</th>\n",
       "      <td>0</td>\n",
       "      <td>135</td>\n",
       "      <td>68</td>\n",
       "      <td>42</td>\n",
       "      <td>250</td>\n",
       "      <td>42.3</td>\n",
       "      <td>0.365</td>\n",
       "      <td>24</td>\n",
       "      <td>1</td>\n",
       "    </tr>\n",
       "    <tr>\n",
       "      <th>4</th>\n",
       "      <td>1</td>\n",
       "      <td>139</td>\n",
       "      <td>62</td>\n",
       "      <td>41</td>\n",
       "      <td>480</td>\n",
       "      <td>40.7</td>\n",
       "      <td>0.536</td>\n",
       "      <td>21</td>\n",
       "      <td>0</td>\n",
       "    </tr>\n",
       "  </tbody>\n",
       "</table>\n",
       "</div>"
      ],
      "text/plain": [
       "   Pregnancies  Glucose  BloodPressure  SkinThickness  Insulin   BMI  \\\n",
       "0            2      138             62             35        0  33.6   \n",
       "1            0       84             82             31      125  38.2   \n",
       "2            0      145              0              0        0  44.2   \n",
       "3            0      135             68             42      250  42.3   \n",
       "4            1      139             62             41      480  40.7   \n",
       "\n",
       "   DiabetesPedigreeFunction  Age  Outcome  \n",
       "0                     0.127   47        1  \n",
       "1                     0.233   23        0  \n",
       "2                     0.630   31        1  \n",
       "3                     0.365   24        1  \n",
       "4                     0.536   21        0  "
      ]
     },
     "execution_count": 3,
     "metadata": {},
     "output_type": "execute_result"
    }
   ],
   "source": [
    "dat.head()"
   ]
  },
  {
   "cell_type": "code",
   "execution_count": 4,
   "metadata": {},
   "outputs": [
    {
     "data": {
      "text/plain": [
       "0    1316\n",
       "1     684\n",
       "Name: Outcome, dtype: int64"
      ]
     },
     "execution_count": 4,
     "metadata": {},
     "output_type": "execute_result"
    }
   ],
   "source": [
    "dat['Outcome'].value_counts()"
   ]
  },
  {
   "cell_type": "code",
   "execution_count": 5,
   "metadata": {},
   "outputs": [
    {
     "name": "stdout",
     "output_type": "stream",
     "text": [
      "Blind guessing should get you a minimum of:  65.8 % accuracy.\n"
     ]
    }
   ],
   "source": [
    "print(\"Blind guessing should get you a minimum of: \", (1316/(684+1316))*100, \"% accuracy.\")"
   ]
  },
  {
   "cell_type": "code",
   "execution_count": 6,
   "metadata": {},
   "outputs": [],
   "source": [
    "data = pd.get_dummies(dat)"
   ]
  },
  {
   "cell_type": "code",
   "execution_count": 7,
   "metadata": {},
   "outputs": [
    {
     "data": {
      "text/html": [
       "<div>\n",
       "<style scoped>\n",
       "    .dataframe tbody tr th:only-of-type {\n",
       "        vertical-align: middle;\n",
       "    }\n",
       "\n",
       "    .dataframe tbody tr th {\n",
       "        vertical-align: top;\n",
       "    }\n",
       "\n",
       "    .dataframe thead th {\n",
       "        text-align: right;\n",
       "    }\n",
       "</style>\n",
       "<table border=\"1\" class=\"dataframe\">\n",
       "  <thead>\n",
       "    <tr style=\"text-align: right;\">\n",
       "      <th></th>\n",
       "      <th>Pregnancies</th>\n",
       "      <th>Glucose</th>\n",
       "      <th>BloodPressure</th>\n",
       "      <th>SkinThickness</th>\n",
       "      <th>Insulin</th>\n",
       "      <th>BMI</th>\n",
       "      <th>DiabetesPedigreeFunction</th>\n",
       "      <th>Age</th>\n",
       "      <th>Outcome</th>\n",
       "    </tr>\n",
       "  </thead>\n",
       "  <tbody>\n",
       "    <tr>\n",
       "      <th>0</th>\n",
       "      <td>2</td>\n",
       "      <td>138</td>\n",
       "      <td>62</td>\n",
       "      <td>35</td>\n",
       "      <td>0</td>\n",
       "      <td>33.6</td>\n",
       "      <td>0.127</td>\n",
       "      <td>47</td>\n",
       "      <td>1</td>\n",
       "    </tr>\n",
       "    <tr>\n",
       "      <th>1</th>\n",
       "      <td>0</td>\n",
       "      <td>84</td>\n",
       "      <td>82</td>\n",
       "      <td>31</td>\n",
       "      <td>125</td>\n",
       "      <td>38.2</td>\n",
       "      <td>0.233</td>\n",
       "      <td>23</td>\n",
       "      <td>0</td>\n",
       "    </tr>\n",
       "    <tr>\n",
       "      <th>2</th>\n",
       "      <td>0</td>\n",
       "      <td>145</td>\n",
       "      <td>0</td>\n",
       "      <td>0</td>\n",
       "      <td>0</td>\n",
       "      <td>44.2</td>\n",
       "      <td>0.630</td>\n",
       "      <td>31</td>\n",
       "      <td>1</td>\n",
       "    </tr>\n",
       "    <tr>\n",
       "      <th>3</th>\n",
       "      <td>0</td>\n",
       "      <td>135</td>\n",
       "      <td>68</td>\n",
       "      <td>42</td>\n",
       "      <td>250</td>\n",
       "      <td>42.3</td>\n",
       "      <td>0.365</td>\n",
       "      <td>24</td>\n",
       "      <td>1</td>\n",
       "    </tr>\n",
       "    <tr>\n",
       "      <th>4</th>\n",
       "      <td>1</td>\n",
       "      <td>139</td>\n",
       "      <td>62</td>\n",
       "      <td>41</td>\n",
       "      <td>480</td>\n",
       "      <td>40.7</td>\n",
       "      <td>0.536</td>\n",
       "      <td>21</td>\n",
       "      <td>0</td>\n",
       "    </tr>\n",
       "  </tbody>\n",
       "</table>\n",
       "</div>"
      ],
      "text/plain": [
       "   Pregnancies  Glucose  BloodPressure  SkinThickness  Insulin   BMI  \\\n",
       "0            2      138             62             35        0  33.6   \n",
       "1            0       84             82             31      125  38.2   \n",
       "2            0      145              0              0        0  44.2   \n",
       "3            0      135             68             42      250  42.3   \n",
       "4            1      139             62             41      480  40.7   \n",
       "\n",
       "   DiabetesPedigreeFunction  Age  Outcome  \n",
       "0                     0.127   47        1  \n",
       "1                     0.233   23        0  \n",
       "2                     0.630   31        1  \n",
       "3                     0.365   24        1  \n",
       "4                     0.536   21        0  "
      ]
     },
     "execution_count": 7,
     "metadata": {},
     "output_type": "execute_result"
    }
   ],
   "source": [
    "data.head()"
   ]
  },
  {
   "cell_type": "code",
   "execution_count": 8,
   "metadata": {},
   "outputs": [
    {
     "data": {
      "text/html": [
       "<div>\n",
       "<style scoped>\n",
       "    .dataframe tbody tr th:only-of-type {\n",
       "        vertical-align: middle;\n",
       "    }\n",
       "\n",
       "    .dataframe tbody tr th {\n",
       "        vertical-align: top;\n",
       "    }\n",
       "\n",
       "    .dataframe thead th {\n",
       "        text-align: right;\n",
       "    }\n",
       "</style>\n",
       "<table border=\"1\" class=\"dataframe\">\n",
       "  <thead>\n",
       "    <tr style=\"text-align: right;\">\n",
       "      <th></th>\n",
       "      <th>Pregnancies</th>\n",
       "      <th>Glucose</th>\n",
       "      <th>BloodPressure</th>\n",
       "      <th>SkinThickness</th>\n",
       "      <th>Insulin</th>\n",
       "      <th>BMI</th>\n",
       "      <th>DiabetesPedigreeFunction</th>\n",
       "      <th>Age</th>\n",
       "      <th>Outcome</th>\n",
       "    </tr>\n",
       "  </thead>\n",
       "  <tbody>\n",
       "    <tr>\n",
       "      <th>count</th>\n",
       "      <td>2000.000000</td>\n",
       "      <td>2000.000000</td>\n",
       "      <td>2000.000000</td>\n",
       "      <td>2000.000000</td>\n",
       "      <td>2000.000000</td>\n",
       "      <td>2000.000000</td>\n",
       "      <td>2000.000000</td>\n",
       "      <td>2000.000000</td>\n",
       "      <td>2000.000000</td>\n",
       "    </tr>\n",
       "    <tr>\n",
       "      <th>mean</th>\n",
       "      <td>3.703500</td>\n",
       "      <td>121.182500</td>\n",
       "      <td>69.145500</td>\n",
       "      <td>20.935000</td>\n",
       "      <td>80.254000</td>\n",
       "      <td>32.193000</td>\n",
       "      <td>0.470930</td>\n",
       "      <td>33.090500</td>\n",
       "      <td>0.342000</td>\n",
       "    </tr>\n",
       "    <tr>\n",
       "      <th>std</th>\n",
       "      <td>3.306063</td>\n",
       "      <td>32.068636</td>\n",
       "      <td>19.188315</td>\n",
       "      <td>16.103243</td>\n",
       "      <td>111.180534</td>\n",
       "      <td>8.149901</td>\n",
       "      <td>0.323553</td>\n",
       "      <td>11.786423</td>\n",
       "      <td>0.474498</td>\n",
       "    </tr>\n",
       "    <tr>\n",
       "      <th>min</th>\n",
       "      <td>0.000000</td>\n",
       "      <td>0.000000</td>\n",
       "      <td>0.000000</td>\n",
       "      <td>0.000000</td>\n",
       "      <td>0.000000</td>\n",
       "      <td>0.000000</td>\n",
       "      <td>0.078000</td>\n",
       "      <td>21.000000</td>\n",
       "      <td>0.000000</td>\n",
       "    </tr>\n",
       "    <tr>\n",
       "      <th>25%</th>\n",
       "      <td>1.000000</td>\n",
       "      <td>99.000000</td>\n",
       "      <td>63.500000</td>\n",
       "      <td>0.000000</td>\n",
       "      <td>0.000000</td>\n",
       "      <td>27.375000</td>\n",
       "      <td>0.244000</td>\n",
       "      <td>24.000000</td>\n",
       "      <td>0.000000</td>\n",
       "    </tr>\n",
       "    <tr>\n",
       "      <th>50%</th>\n",
       "      <td>3.000000</td>\n",
       "      <td>117.000000</td>\n",
       "      <td>72.000000</td>\n",
       "      <td>23.000000</td>\n",
       "      <td>40.000000</td>\n",
       "      <td>32.300000</td>\n",
       "      <td>0.376000</td>\n",
       "      <td>29.000000</td>\n",
       "      <td>0.000000</td>\n",
       "    </tr>\n",
       "    <tr>\n",
       "      <th>75%</th>\n",
       "      <td>6.000000</td>\n",
       "      <td>141.000000</td>\n",
       "      <td>80.000000</td>\n",
       "      <td>32.000000</td>\n",
       "      <td>130.000000</td>\n",
       "      <td>36.800000</td>\n",
       "      <td>0.624000</td>\n",
       "      <td>40.000000</td>\n",
       "      <td>1.000000</td>\n",
       "    </tr>\n",
       "    <tr>\n",
       "      <th>max</th>\n",
       "      <td>17.000000</td>\n",
       "      <td>199.000000</td>\n",
       "      <td>122.000000</td>\n",
       "      <td>110.000000</td>\n",
       "      <td>744.000000</td>\n",
       "      <td>80.600000</td>\n",
       "      <td>2.420000</td>\n",
       "      <td>81.000000</td>\n",
       "      <td>1.000000</td>\n",
       "    </tr>\n",
       "  </tbody>\n",
       "</table>\n",
       "</div>"
      ],
      "text/plain": [
       "       Pregnancies      Glucose  BloodPressure  SkinThickness      Insulin  \\\n",
       "count  2000.000000  2000.000000    2000.000000    2000.000000  2000.000000   \n",
       "mean      3.703500   121.182500      69.145500      20.935000    80.254000   \n",
       "std       3.306063    32.068636      19.188315      16.103243   111.180534   \n",
       "min       0.000000     0.000000       0.000000       0.000000     0.000000   \n",
       "25%       1.000000    99.000000      63.500000       0.000000     0.000000   \n",
       "50%       3.000000   117.000000      72.000000      23.000000    40.000000   \n",
       "75%       6.000000   141.000000      80.000000      32.000000   130.000000   \n",
       "max      17.000000   199.000000     122.000000     110.000000   744.000000   \n",
       "\n",
       "               BMI  DiabetesPedigreeFunction          Age      Outcome  \n",
       "count  2000.000000               2000.000000  2000.000000  2000.000000  \n",
       "mean     32.193000                  0.470930    33.090500     0.342000  \n",
       "std       8.149901                  0.323553    11.786423     0.474498  \n",
       "min       0.000000                  0.078000    21.000000     0.000000  \n",
       "25%      27.375000                  0.244000    24.000000     0.000000  \n",
       "50%      32.300000                  0.376000    29.000000     0.000000  \n",
       "75%      36.800000                  0.624000    40.000000     1.000000  \n",
       "max      80.600000                  2.420000    81.000000     1.000000  "
      ]
     },
     "execution_count": 8,
     "metadata": {},
     "output_type": "execute_result"
    }
   ],
   "source": [
    "# things to note:\n",
    "# 1) this dataset has ZERO categorical variables - nothing like the other dataset - how will this affect weighting without normalization just like the other?\n",
    "# 2) dimensionality is no longer a problem like dataset 1 - will this show in the results?\n",
    "# 3) This time the problem is sample size - we only have 2000 records to work with - will this be a problem?\n",
    "data.describe()"
   ]
  },
  {
   "cell_type": "code",
   "execution_count": 9,
   "metadata": {},
   "outputs": [],
   "source": [
    "y = data['Outcome']\n",
    "X = data.drop(['Outcome'], axis=1)\n",
    "\n",
    "# split into train and test\n",
    "from sklearn.model_selection import train_test_split\n",
    "X_train, X_test, y_train, y_test = train_test_split(X, y, test_size=.05)"
   ]
  },
  {
   "cell_type": "code",
   "execution_count": 10,
   "metadata": {},
   "outputs": [],
   "source": [
    "# LEARNING CURVES\n",
    "validation_sizes = [.05, .10, .20, .33, .5]"
   ]
  },
  {
   "cell_type": "code",
   "execution_count": 11,
   "metadata": {},
   "outputs": [],
   "source": [
    "from sklearn.metrics import accuracy_score\n",
    "from sklearn.model_selection import cross_validate\n",
    "from sklearn.model_selection import GridSearchCV"
   ]
  },
  {
   "cell_type": "markdown",
   "metadata": {},
   "source": [
    "## Decision Trees"
   ]
  },
  {
   "cell_type": "code",
   "execution_count": 12,
   "metadata": {},
   "outputs": [],
   "source": [
    "## Decision Tree\n",
    "from sklearn.tree import DecisionTreeClassifier"
   ]
  },
  {
   "cell_type": "code",
   "execution_count": 13,
   "metadata": {},
   "outputs": [
    {
     "name": "stdout",
     "output_type": "stream",
     "text": [
      "Completed round 1 of 5\n",
      "Completed round 2 of 5\n",
      "Completed round 3 of 5\n",
      "Completed round 4 of 5\n",
      "Completed round 5 of 5\n"
     ]
    }
   ],
   "source": [
    "train_accuracy = []\n",
    "val_accuracy = []\n",
    "\n",
    "for i in range(5):\n",
    "    X_train_new, X_val, y_train_new, y_val = train_test_split(X_train, y_train, test_size=validation_sizes[i], random_state=20170826)\n",
    "    \n",
    "    tree = DecisionTreeClassifier(criterion='entropy', max_depth=6, min_samples_leaf=5, random_state=20170826)\n",
    "    \n",
    "    tree.fit(X_train_new, y_train_new)\n",
    "    \n",
    "    predictions_train = tree.predict(X_train_new)\n",
    "    predictions_val = tree.predict(X_val)\n",
    "    \n",
    "    train_accuracy.append(accuracy_score(y_train_new, predictions_train))\n",
    "    val_accuracy.append(accuracy_score(y_val, predictions_val))\n",
    "    \n",
    "    print(\"Completed round\", i+1, \"of 5\")"
   ]
  },
  {
   "cell_type": "code",
   "execution_count": 14,
   "metadata": {},
   "outputs": [],
   "source": [
    "training_df = pd.DataFrame(\n",
    "    {'train_accuracy': train_accuracy,\n",
    "     'val_accuracy': val_accuracy,\n",
    "     'validation_sizes': validation_sizes}\n",
    ")"
   ]
  },
  {
   "cell_type": "code",
   "execution_count": 15,
   "metadata": {},
   "outputs": [
    {
     "data": {
      "image/png": "[encoded data removed]",
      "text/plain": [
       "<Figure size 432x288 with 1 Axes>"
      ]
     },
     "metadata": {
      "needs_background": "light"
     },
     "output_type": "display_data"
    }
   ],
   "source": [
    "plt.plot(training_df[\"validation_sizes\"], training_df[[\"train_accuracy\", \"val_accuracy\"]])\n",
    "plt.xlabel('Validation Set Size')\n",
    "plt.ylabel('Model Accuracy')\n",
    "plt.title('Decision Tree Accuracy by Validation and Training Set Size')\n",
    "plt.xticks([0,.1,.2,.3,.4,.5])\n",
    "plt.legend(['train_accuracy', \"val_accuracy\"])\n",
    "plt.show()"
   ]
  },
  {
   "cell_type": "markdown",
   "metadata": {},
   "source": [
    "***Best validation set size for the hyperparameters: 0.05 - This means a k of 20 for k-fold cross validation.***"
   ]
  },
  {
   "cell_type": "code",
   "execution_count": 16,
   "metadata": {},
   "outputs": [
    {
     "name": "stdout",
     "output_type": "stream",
     "text": [
      "Completed Round 1 of 10.\n",
      "Completed Round 2 of 10.\n",
      "Completed Round 3 of 10.\n",
      "Completed Round 4 of 10.\n",
      "Completed Round 5 of 10.\n",
      "Completed Round 6 of 10.\n",
      "Completed Round 7 of 10.\n",
      "Completed Round 8 of 10.\n",
      "Completed Round 9 of 10.\n",
      "Completed Round 10 of 10.\n"
     ]
    }
   ],
   "source": [
    "# first we do pruning - max depth parameter\n",
    "max_depths = [2, 3, 4, 5, 6, 7, 8, 9, 10, 11]\n",
    "\n",
    "scores_train = []\n",
    "scores_val = []\n",
    "\n",
    "for i in range(10):\n",
    "    tree = DecisionTreeClassifier(criterion='entropy', max_depth=max_depths[i], random_state=20170826)\n",
    "\n",
    "    scores = cross_validate(tree, X_train, y_train, cv=5, return_train_score=True)\n",
    "\n",
    "    scores_train.append(scores['train_score'].mean())\n",
    "    scores_val.append(scores['test_score'].mean())\n",
    "\n",
    "    print(\"Completed Round\", i+1, \"of 10.\")"
   ]
  },
  {
   "cell_type": "code",
   "execution_count": 17,
   "metadata": {},
   "outputs": [],
   "source": [
    "depths_df = pd.DataFrame(\n",
    "    {'scores_train': scores_train,\n",
    "     'scores_val': scores_val,\n",
    "     'max_depths': max_depths}\n",
    ")"
   ]
  },
  {
   "cell_type": "code",
   "execution_count": 18,
   "metadata": {},
   "outputs": [
    {
     "data": {
      "image/png": "[encoded data removed]",
      "text/plain": [
       "<Figure size 432x288 with 1 Axes>"
      ]
     },
     "metadata": {
      "needs_background": "light"
     },
     "output_type": "display_data"
    }
   ],
   "source": [
    "plt.plot(depths_df[\"max_depths\"], depths_df[[\"scores_train\", \"scores_val\"]])\n",
    "plt.xlabel('Max Depth Size')\n",
    "plt.ylabel('Accuracy Score')\n",
    "plt.title('Decision Tree Accuracy by Max Depth')\n",
    "plt.xticks(np.arange(2,12))\n",
    "plt.legend([\"Training Set\", \"Validation Set\"])\n",
    "plt.show()"
   ]
  },
  {
   "cell_type": "markdown",
   "metadata": {},
   "source": [
    "***Chosen max depth size for the test set: 11.***"
   ]
  },
  {
   "cell_type": "code",
   "execution_count": 19,
   "metadata": {},
   "outputs": [
    {
     "name": "stdout",
     "output_type": "stream",
     "text": [
      "Completed Round 1 of 10.\n",
      "Completed Round 2 of 10.\n",
      "Completed Round 3 of 10.\n",
      "Completed Round 4 of 10.\n",
      "Completed Round 5 of 10.\n",
      "Completed Round 6 of 10.\n",
      "Completed Round 7 of 10.\n",
      "Completed Round 8 of 10.\n",
      "Completed Round 9 of 10.\n",
      "Completed Round 10 of 10.\n"
     ]
    }
   ],
   "source": [
    "# let's try one more parameter - \n",
    "min_samples_leaf = [1, 2, 3, 4, 5, 6, 7, 8, 9, 10]\n",
    "\n",
    "scores_train = []\n",
    "scores_val = []\n",
    "\n",
    "for i in range(10):\n",
    "    tree = DecisionTreeClassifier(criterion='entropy', min_samples_leaf=min_samples_leaf[i], random_state=20170826)\n",
    "\n",
    "    scores = cross_validate(tree, X_train, y_train, cv=5, return_train_score=True)\n",
    "\n",
    "    scores_train.append(scores['train_score'].mean())\n",
    "    scores_val.append(scores['test_score'].mean())\n",
    "        \n",
    "    print(\"Completed Round\", i+1, \"of 10.\")"
   ]
  },
  {
   "cell_type": "code",
   "execution_count": 20,
   "metadata": {},
   "outputs": [],
   "source": [
    "leafs_df = pd.DataFrame(\n",
    "    {'scores_train': scores_train,\n",
    "     'scores_val': scores_val,\n",
    "     'min_leafs': min_samples_leaf}\n",
    ")"
   ]
  },
  {
   "cell_type": "code",
   "execution_count": 21,
   "metadata": {},
   "outputs": [
    {
     "data": {
      "image/png": "[encoded data removed]",
      "text/plain": [
       "<Figure size 432x288 with 1 Axes>"
      ]
     },
     "metadata": {
      "needs_background": "light"
     },
     "output_type": "display_data"
    }
   ],
   "source": [
    "plt.plot(leafs_df[\"min_leafs\"], leafs_df[[\"scores_train\", \"scores_val\"]])\n",
    "plt.xlabel('Min Leaf Size')\n",
    "plt.ylabel('Accuracy Score')\n",
    "plt.title('Decision Tree Accuracy by Min Leaf Size')\n",
    "plt.xticks(np.arange(1,11))\n",
    "plt.legend([\"Training Set\", \"Validation Set\"])\n",
    "plt.show()"
   ]
  },
  {
   "cell_type": "markdown",
   "metadata": {},
   "source": [
    "***Chosen min leaf size for the test set: 1.***"
   ]
  },
  {
   "cell_type": "code",
   "execution_count": 22,
   "metadata": {},
   "outputs": [
    {
     "name": "stdout",
     "output_type": "stream",
     "text": [
      "Time to use Grid Search: 0.035465574264526366 minutes\n",
      "Final Decision Tree Test Accuracy: 0.98\n",
      "Best Params from Grid Search: {'max_depth': 11, 'min_samples_leaf': 1}\n"
     ]
    }
   ],
   "source": [
    "# according to this, our best parameters are a max depth of 11 and a min leaf size of 1, with some variation\n",
    "start = time.time()\n",
    "\n",
    "param_grid = {'max_depth': np.arange(2,12),\n",
    "              'min_samples_leaf': np.arange(1,11)}\n",
    "\n",
    "tree_final = GridSearchCV(DecisionTreeClassifier(criterion='entropy', random_state=20170826), param_grid=param_grid)\n",
    "tree_final.fit(X_train, y_train)\n",
    "predictions = tree_final.predict(X_test)\n",
    "final_score = accuracy_score(y_test, predictions)\n",
    "\n",
    "end = time.time()\n",
    "\n",
    "print(\"Time to use Grid Search:\", (end-start)/60, \"minutes\")\n",
    "print(\"Final Decision Tree Test Accuracy:\", final_score)\n",
    "print(\"Best Params from Grid Search:\", tree_final.best_params_)"
   ]
  },
  {
   "cell_type": "code",
   "execution_count": 23,
   "metadata": {},
   "outputs": [
    {
     "name": "stdout",
     "output_type": "stream",
     "text": [
      "Final tree accuracy is performing 48.93617021276595 % better than the baseline of blind guessing.\n"
     ]
    }
   ],
   "source": [
    "print(\"Final tree accuracy is performing\", ((final_score-0.658)/0.658)*100, \"% better than the baseline of blind guessing.\")"
   ]
  },
  {
   "cell_type": "markdown",
   "metadata": {},
   "source": [
    "## Neural Networks"
   ]
  },
  {
   "cell_type": "code",
   "execution_count": 24,
   "metadata": {},
   "outputs": [],
   "source": [
    "## Neural Networks\n",
    "from sklearn.neural_network import MLPClassifier"
   ]
  },
  {
   "cell_type": "code",
   "execution_count": 25,
   "metadata": {},
   "outputs": [
    {
     "name": "stdout",
     "output_type": "stream",
     "text": [
      "Completed round 1 of 5\n",
      "Completed round 2 of 5\n",
      "Completed round 3 of 5\n",
      "Completed round 4 of 5\n",
      "Completed round 5 of 5\n"
     ]
    }
   ],
   "source": [
    "train_accuracy = []\n",
    "val_accuracy = []\n",
    "\n",
    "loss = []\n",
    "\n",
    "for i in range(5):\n",
    "    X_train_new, X_val, y_train_new, y_val = train_test_split(X_train, y_train, test_size=validation_sizes[i], random_state=20170826)\n",
    "    \n",
    "    mlp = MLPClassifier(hidden_layer_sizes=(100,50,100) ,activation='relu', random_state=20170826)\n",
    "    \n",
    "    mlp.fit(X_train_new, y_train_new)\n",
    "    \n",
    "    loss.append(mlp.loss_curve_)\n",
    "    \n",
    "    predictions_train = mlp.predict(X_train_new)\n",
    "    predictions_val = mlp.predict(X_val)\n",
    "    \n",
    "    train_accuracy.append(accuracy_score(y_train_new, predictions_train))\n",
    "    val_accuracy.append(accuracy_score(y_val, predictions_val))\n",
    "    \n",
    "    print(\"Completed round\", i+1, \"of 5\")"
   ]
  },
  {
   "cell_type": "code",
   "execution_count": 26,
   "metadata": {},
   "outputs": [],
   "source": [
    "training_df = pd.DataFrame(\n",
    "    {'train_accuracy': train_accuracy,\n",
    "     'val_accuracy': val_accuracy,\n",
    "     'validation_sizes': validation_sizes}\n",
    ")"
   ]
  },
  {
   "cell_type": "code",
   "execution_count": 27,
   "metadata": {},
   "outputs": [
    {
     "data": {
      "image/png": "[encoded data removed]",
      "text/plain": [
       "<Figure size 432x288 with 1 Axes>"
      ]
     },
     "metadata": {
      "needs_background": "light"
     },
     "output_type": "display_data"
    }
   ],
   "source": [
    "plt.plot(training_df[\"validation_sizes\"], training_df[[\"train_accuracy\", \"val_accuracy\"]])\n",
    "plt.xlabel('Validation Set Size')\n",
    "plt.ylabel('Model Accuracy')\n",
    "plt.title('MLP NN Accuracy by Validation and Training Set Size')\n",
    "plt.xticks([0,.1,.2,.3,.4,.5])\n",
    "plt.legend(['train_accuracy', \"val_accuracy\"])\n",
    "plt.show()"
   ]
  },
  {
   "cell_type": "code",
   "execution_count": 28,
   "metadata": {},
   "outputs": [
    {
     "data": {
      "image/png": "[encoded data removed]",
      "text/plain": [
       "<Figure size 432x288 with 1 Axes>"
      ]
     },
     "metadata": {
      "needs_background": "light"
     },
     "output_type": "display_data"
    }
   ],
   "source": [
    "for l in loss:\n",
    "    plt.plot(l)\n",
    "plt.xlabel('Iteration Number')\n",
    "plt.ylabel('Loss Value')\n",
    "plt.title('MLP NN Accuracy by Iteration Number and Training Size')\n",
    "plt.xticks(np.arange(0,200,25))\n",
    "plt.legend(['Validation=0.05', \"0.10\", \"0.20\", \"0.25\", \"0.50\"])\n",
    "plt.show()"
   ]
  },
  {
   "cell_type": "markdown",
   "metadata": {},
   "source": [
    "***Best validation set size for the hyperparameters: 0.1 - This means a k of 10 for k-fold cross validation.***"
   ]
  },
  {
   "cell_type": "code",
   "execution_count": 29,
   "metadata": {},
   "outputs": [
    {
     "name": "stdout",
     "output_type": "stream",
     "text": [
      "Completed Round 1 of 5.\n",
      "Completed Round 2 of 5.\n",
      "Completed Round 3 of 5.\n",
      "Completed Round 4 of 5.\n",
      "Completed Round 5 of 5.\n"
     ]
    }
   ],
   "source": [
    "# first we do hidden_layer_sizes\n",
    "hidden_layer_sizes = [(10,), (100,), (100,50,100), (10,5,10), (5,50,100)]\n",
    "\n",
    "scores_train = []\n",
    "scores_val = []\n",
    "\n",
    "for i in range(5):\n",
    "    mlp = MLPClassifier(hidden_layer_sizes=hidden_layer_sizes[i], random_state=20170826)\n",
    "\n",
    "    scores = cross_validate(mlp, X_train, y_train, cv=5, return_train_score=True)\n",
    "\n",
    "    scores_train.append(scores['train_score'].mean())\n",
    "    scores_val.append(scores['test_score'].mean())\n",
    "\n",
    "    print(\"Completed Round\", i+1, \"of 5.\")"
   ]
  },
  {
   "cell_type": "code",
   "execution_count": 30,
   "metadata": {},
   "outputs": [],
   "source": [
    "hidden_layer_sizes_cats = []\n",
    "for i in range(5):\n",
    "    hidden_layer_sizes_cats.append(str(hidden_layer_sizes[i]))"
   ]
  },
  {
   "cell_type": "code",
   "execution_count": 31,
   "metadata": {},
   "outputs": [],
   "source": [
    "hidden_layers_df = pd.DataFrame(\n",
    "    {'scores_train': scores_train,\n",
    "     'scores_val': scores_val,\n",
    "     'hidden_layer_sizes': hidden_layer_sizes_cats}\n",
    ")\n",
    "hidden_layers_df['hidden_layer_sizes'] = hidden_layers_df['hidden_layer_sizes'].astype('category')"
   ]
  },
  {
   "cell_type": "code",
   "execution_count": 32,
   "metadata": {},
   "outputs": [
    {
     "data": {
      "image/png": "[encoded data removed]",
      "text/plain": [
       "<Figure size 432x288 with 1 Axes>"
      ]
     },
     "metadata": {
      "needs_background": "light"
     },
     "output_type": "display_data"
    }
   ],
   "source": [
    "hidden_layers_df.plot.bar(x=\"hidden_layer_sizes\")\n",
    "plt.xlabel('Hidden Layer Sizes')\n",
    "plt.ylabel('Accuracy Score')\n",
    "plt.title('MLP Accuracy by Hidden Layer Size')\n",
    "plt.legend([\"Training Set\", \"Validation Set\"], loc='lower center')\n",
    "plt.show()"
   ]
  },
  {
   "cell_type": "markdown",
   "metadata": {},
   "source": [
    "***Chosen Hidden Layer size for the test set: (100,50,100).***"
   ]
  },
  {
   "cell_type": "code",
   "execution_count": 33,
   "metadata": {},
   "outputs": [
    {
     "name": "stdout",
     "output_type": "stream",
     "text": [
      "Completed Round 1 of 4.\n",
      "Completed Round 2 of 4.\n",
      "Completed Round 3 of 4.\n",
      "Completed Round 4 of 4.\n"
     ]
    }
   ],
   "source": [
    "# let's try one more parameter - \n",
    "activation = ['identity', 'logistic', 'tanh', 'relu']\n",
    "\n",
    "scores_train = []\n",
    "scores_val = []\n",
    "\n",
    "for i in range(4):\n",
    "    mlp = MLPClassifier(activation=activation[i], random_state=20170826)\n",
    "\n",
    "    scores = cross_validate(mlp, X_train, y_train, cv=5, return_train_score=True)\n",
    "\n",
    "    scores_train.append(scores['train_score'].mean())\n",
    "    scores_val.append(scores['test_score'].mean())\n",
    "        \n",
    "    print(\"Completed Round\", i+1, \"of 4.\")"
   ]
  },
  {
   "cell_type": "code",
   "execution_count": 34,
   "metadata": {},
   "outputs": [],
   "source": [
    "activation_cats = []\n",
    "for i in range(4):\n",
    "    activation_cats.append(str(activation[i]))"
   ]
  },
  {
   "cell_type": "code",
   "execution_count": 35,
   "metadata": {},
   "outputs": [],
   "source": [
    "activations_df = pd.DataFrame(\n",
    "    {'scores_train': scores_train,\n",
    "     'scores_val': scores_val,\n",
    "     'activation': activation_cats}\n",
    ")\n",
    "activations_df['activation'] = activations_df['activation'].astype('category')"
   ]
  },
  {
   "cell_type": "code",
   "execution_count": 36,
   "metadata": {},
   "outputs": [
    {
     "data": {
      "image/png": "[encoded data removed]",
      "text/plain": [
       "<Figure size 432x288 with 1 Axes>"
      ]
     },
     "metadata": {
      "needs_background": "light"
     },
     "output_type": "display_data"
    }
   ],
   "source": [
    "activations_df.plot.bar(x=\"activation\")\n",
    "plt.xlabel('Activation Function')\n",
    "plt.ylabel('Accuracy Score')\n",
    "plt.title('MLP Accuracy by Activation Function')\n",
    "plt.legend([\"Training Set\", \"Validation Set\"], loc='lower center')\n",
    "plt.show()"
   ]
  },
  {
   "cell_type": "markdown",
   "metadata": {},
   "source": [
    "***Chosen Activation Function for the test set: tanh.***"
   ]
  },
  {
   "cell_type": "code",
   "execution_count": 37,
   "metadata": {},
   "outputs": [
    {
     "name": "stdout",
     "output_type": "stream",
     "text": [
      "Time to use Grid Search: 1.1381985227266946 minutes\n",
      "Final MLP Test Accuracy: 0.92\n",
      "Best Params from Grid Search: {'activation': 'tanh', 'hidden_layer_sizes': (100, 50, 100)}\n"
     ]
    }
   ],
   "source": [
    "# according to this, our best parameters are a hidden layer size of (100,50,100) and an activtion function of tanh, with some variation\n",
    "start = time.time()\n",
    "\n",
    "param_grid = {'activation': ['identity', 'logistic', 'tanh', 'relu'],\n",
    "              'hidden_layer_sizes':[(10,), (100,), (100,50,100), (10,5,10), (5,50,100)]}\n",
    "\n",
    "mlp_final = GridSearchCV(MLPClassifier(random_state=20170826), param_grid=param_grid)\n",
    "mlp_final.fit(X_train, y_train)\n",
    "predictions = mlp_final.predict(X_test)\n",
    "final_score = accuracy_score(y_test, predictions)\n",
    "\n",
    "end = time.time()\n",
    "\n",
    "print(\"Time to use Grid Search:\", (end-start)/60, \"minutes\")\n",
    "print(\"Final MLP Test Accuracy:\", final_score)\n",
    "print(\"Best Params from Grid Search:\", mlp_final.best_params_)"
   ]
  },
  {
   "cell_type": "code",
   "execution_count": 38,
   "metadata": {},
   "outputs": [
    {
     "name": "stdout",
     "output_type": "stream",
     "text": [
      "Final MLP accuracy is performing 39.817629179331306 % better than the baseline of blind guessing.\n"
     ]
    }
   ],
   "source": [
    "print(\"Final MLP accuracy is performing\", ((final_score-0.658)/0.658)*100, \"% better than the baseline of blind guessing.\")"
   ]
  },
  {
   "cell_type": "markdown",
   "metadata": {},
   "source": [
    "## Boosting"
   ]
  },
  {
   "cell_type": "code",
   "execution_count": 39,
   "metadata": {},
   "outputs": [],
   "source": [
    "## BOOSTING\n",
    "from sklearn.ensemble import GradientBoostingClassifier"
   ]
  },
  {
   "cell_type": "code",
   "execution_count": 40,
   "metadata": {},
   "outputs": [
    {
     "name": "stdout",
     "output_type": "stream",
     "text": [
      "Completed round 1 of 5\n",
      "Completed round 2 of 5\n",
      "Completed round 3 of 5\n",
      "Completed round 4 of 5\n",
      "Completed round 5 of 5\n"
     ]
    }
   ],
   "source": [
    "train_accuracy = []\n",
    "val_accuracy = []\n",
    "\n",
    "for i in range(5):\n",
    "    X_train_new, X_val, y_train_new, y_val = train_test_split(X_train, y_train, test_size=validation_sizes[i], random_state=20170826)\n",
    "    \n",
    "    boost = GradientBoostingClassifier(max_depth=3, min_samples_leaf=2, random_state=20170826)\n",
    "    \n",
    "    boost.fit(X_train_new, y_train_new)\n",
    "    \n",
    "    predictions_train = boost.predict(X_train_new)\n",
    "    predictions_val = boost.predict(X_val)\n",
    "    \n",
    "    train_accuracy.append(accuracy_score(y_train_new, predictions_train))\n",
    "    val_accuracy.append(accuracy_score(y_val, predictions_val))\n",
    "    \n",
    "    print(\"Completed round\", i+1, \"of 5\")"
   ]
  },
  {
   "cell_type": "code",
   "execution_count": 41,
   "metadata": {},
   "outputs": [],
   "source": [
    "training_df = pd.DataFrame(\n",
    "    {'train_accuracy': train_accuracy,\n",
    "     'val_accuracy': val_accuracy,\n",
    "     'validation_sizes': validation_sizes}\n",
    ")"
   ]
  },
  {
   "cell_type": "code",
   "execution_count": 42,
   "metadata": {},
   "outputs": [
    {
     "data": {
      "image/png": "[encoded data removed]",
      "text/plain": [
       "<Figure size 432x288 with 1 Axes>"
      ]
     },
     "metadata": {
      "needs_background": "light"
     },
     "output_type": "display_data"
    }
   ],
   "source": [
    "plt.plot(training_df[\"validation_sizes\"], training_df[[\"train_accuracy\", \"val_accuracy\"]])\n",
    "plt.xlabel('Validation Set Size')\n",
    "plt.ylabel('Model Accuracy')\n",
    "plt.title('Boosted Tree Accuracy by Validation and Training Set Size')\n",
    "plt.xticks([0,.1,.2,.3,.4,.5])\n",
    "plt.legend(['train_accuracy', \"val_accuracy\"])\n",
    "plt.show()"
   ]
  },
  {
   "cell_type": "markdown",
   "metadata": {},
   "source": [
    "***Best validation set size for the hyperparameters: 0.1 - This means a k of 10 for k-fold cross validation.***"
   ]
  },
  {
   "cell_type": "code",
   "execution_count": 43,
   "metadata": {},
   "outputs": [
    {
     "name": "stdout",
     "output_type": "stream",
     "text": [
      "Completed Round 1 of 10.\n",
      "Completed Round 2 of 10.\n",
      "Completed Round 3 of 10.\n",
      "Completed Round 4 of 10.\n",
      "Completed Round 5 of 10.\n",
      "Completed Round 6 of 10.\n",
      "Completed Round 7 of 10.\n",
      "Completed Round 8 of 10.\n",
      "Completed Round 9 of 10.\n",
      "Completed Round 10 of 10.\n"
     ]
    }
   ],
   "source": [
    "# first we do pruning - max depth parameter\n",
    "max_depths = [2, 3, 4, 5, 6, 7, 8, 9, 10, 11]\n",
    "\n",
    "scores_train = []\n",
    "scores_val = []\n",
    "\n",
    "for i in range(10):\n",
    "    boost = GradientBoostingClassifier(max_depth=max_depths[i], random_state=20170826)\n",
    "\n",
    "    scores = cross_validate(boost, X_train, y_train, cv=5, return_train_score=True)\n",
    "\n",
    "    scores_train.append(scores['train_score'].mean())\n",
    "    scores_val.append(scores['test_score'].mean())\n",
    "\n",
    "    print(\"Completed Round\", i+1, \"of 10.\")"
   ]
  },
  {
   "cell_type": "code",
   "execution_count": 44,
   "metadata": {},
   "outputs": [],
   "source": [
    "boosted_depths_df = pd.DataFrame(\n",
    "    {'scores_train': scores_train,\n",
    "     'scores_val': scores_val,\n",
    "     'max_depths': max_depths}\n",
    ")"
   ]
  },
  {
   "cell_type": "code",
   "execution_count": 45,
   "metadata": {},
   "outputs": [
    {
     "data": {
      "image/png": "[encoded data removed]",
      "text/plain": [
       "<Figure size 432x288 with 1 Axes>"
      ]
     },
     "metadata": {
      "needs_background": "light"
     },
     "output_type": "display_data"
    }
   ],
   "source": [
    "plt.plot(boosted_depths_df[\"max_depths\"], boosted_depths_df[[\"scores_train\", \"scores_val\"]])\n",
    "plt.xlabel('Max Depth Size')\n",
    "plt.ylabel('Accuracy Score')\n",
    "plt.title('Boosted Decision Tree Accuracy by Max Depth')\n",
    "plt.xticks(np.arange(2,12))\n",
    "plt.legend([\"Training Set\", \"Validation Set\"])\n",
    "plt.show()"
   ]
  },
  {
   "cell_type": "markdown",
   "metadata": {},
   "source": [
    "***Chosen max depth size for the test set: 6, however it looks like anything from 6-11 works.***"
   ]
  },
  {
   "cell_type": "code",
   "execution_count": 46,
   "metadata": {},
   "outputs": [
    {
     "name": "stdout",
     "output_type": "stream",
     "text": [
      "Completed Round 1 of 10.\n",
      "Completed Round 2 of 10.\n",
      "Completed Round 3 of 10.\n",
      "Completed Round 4 of 10.\n",
      "Completed Round 5 of 10.\n",
      "Completed Round 6 of 10.\n",
      "Completed Round 7 of 10.\n",
      "Completed Round 8 of 10.\n",
      "Completed Round 9 of 10.\n",
      "Completed Round 10 of 10.\n"
     ]
    }
   ],
   "source": [
    "# let's try one more parameter - \n",
    "min_samples_leaf = [1, 2, 3, 4, 5, 6, 7, 8, 9, 10]\n",
    "\n",
    "scores_train = []\n",
    "scores_val = []\n",
    "\n",
    "for i in range(10):\n",
    "    boost = GradientBoostingClassifier(min_samples_leaf=min_samples_leaf[i], random_state=20170826)\n",
    "\n",
    "    scores = cross_validate(boost, X_train, y_train, cv=5, return_train_score=True)\n",
    "\n",
    "    scores_train.append(scores['train_score'].mean())\n",
    "    scores_val.append(scores['test_score'].mean())\n",
    "        \n",
    "    print(\"Completed Round\", i+1, \"of 10.\")"
   ]
  },
  {
   "cell_type": "code",
   "execution_count": 47,
   "metadata": {},
   "outputs": [],
   "source": [
    "boosted_leafs_df = pd.DataFrame(\n",
    "    {'scores_train': scores_train,\n",
    "     'scores_val': scores_val,\n",
    "     'min_leafs': min_samples_leaf}\n",
    ")"
   ]
  },
  {
   "cell_type": "code",
   "execution_count": 48,
   "metadata": {},
   "outputs": [
    {
     "data": {
      "image/png": "[encoded data removed]",
      "text/plain": [
       "<Figure size 432x288 with 1 Axes>"
      ]
     },
     "metadata": {
      "needs_background": "light"
     },
     "output_type": "display_data"
    }
   ],
   "source": [
    "plt.plot(boosted_leafs_df[\"min_leafs\"], boosted_leafs_df[[\"scores_train\", \"scores_val\"]])\n",
    "plt.xlabel('Min Leaf Size')\n",
    "plt.ylabel('Accuracy Score')\n",
    "plt.title('Boosted Tree Accuracy by Min Leaf Size')\n",
    "plt.xticks(np.arange(1,11))\n",
    "plt.legend([\"Training Set\", \"Validation Set\"])\n",
    "plt.show()"
   ]
  },
  {
   "cell_type": "markdown",
   "metadata": {},
   "source": [
    "***Chosen min leaf size for the test set: any...let's say 5. They're all bad.***"
   ]
  },
  {
   "cell_type": "code",
   "execution_count": 49,
   "metadata": {},
   "outputs": [
    {
     "name": "stdout",
     "output_type": "stream",
     "text": [
      "Time to use Grid Search: 2.6430989027023317 minutes\n",
      "Final Boosted Tree Test Accuracy: 1.0\n",
      "Best Params from Grid Search: {'max_depth': 7, 'min_samples_leaf': 5}\n"
     ]
    }
   ],
   "source": [
    "# according to this, our best parameters are a max depth of 6 and a min leaf size of 10, with some variation\n",
    "start = time.time()\n",
    "\n",
    "param_grid = {'max_depth': np.arange(2,12),\n",
    "              'min_samples_leaf': np.arange(1,11)}\n",
    "\n",
    "boost_final = GridSearchCV(GradientBoostingClassifier(random_state=20170826), param_grid=param_grid)\n",
    "boost_final.fit(X_train, y_train)\n",
    "predictions = boost_final.predict(X_test)\n",
    "final_score = accuracy_score(y_test, predictions)\n",
    "\n",
    "end = time.time()\n",
    "\n",
    "print(\"Time to use Grid Search:\", (end-start)/60, \"minutes\")\n",
    "print(\"Final Boosted Tree Test Accuracy:\", final_score)\n",
    "print(\"Best Params from Grid Search:\", boost_final.best_params_)"
   ]
  },
  {
   "cell_type": "code",
   "execution_count": 50,
   "metadata": {},
   "outputs": [
    {
     "name": "stdout",
     "output_type": "stream",
     "text": [
      "Final boosted tree accuracy is performing 51.97568389057749 % better than the baseline of blind guessing.\n"
     ]
    }
   ],
   "source": [
    "print(\"Final boosted tree accuracy is performing\", ((final_score-0.658)/0.658)*100, \"% better than the baseline of blind guessing.\")"
   ]
  },
  {
   "cell_type": "markdown",
   "metadata": {},
   "source": [
    "## SVM"
   ]
  },
  {
   "cell_type": "code",
   "execution_count": 51,
   "metadata": {},
   "outputs": [],
   "source": [
    "## SVM\n",
    "from sklearn.svm import SVC"
   ]
  },
  {
   "cell_type": "code",
   "execution_count": 52,
   "metadata": {},
   "outputs": [
    {
     "name": "stdout",
     "output_type": "stream",
     "text": [
      "Completed round 1 of 5\n",
      "Completed round 2 of 5\n",
      "Completed round 3 of 5\n",
      "Completed round 4 of 5\n",
      "Completed round 5 of 5\n"
     ]
    }
   ],
   "source": [
    "train_accuracy = []\n",
    "val_accuracy = []\n",
    "\n",
    "for i in range(5):\n",
    "    X_train_new, X_val, y_train_new, y_val = train_test_split(X_train, y_train, test_size=validation_sizes[i], random_state=20170826)\n",
    "    \n",
    "    svm = SVC(kernel='rbf', degree=3, random_state=20170826)\n",
    "    \n",
    "    svm.fit(X_train_new, y_train_new)\n",
    "    \n",
    "    predictions_train = svm.predict(X_train_new)\n",
    "    predictions_val = svm.predict(X_val)\n",
    "    \n",
    "    train_accuracy.append(accuracy_score(y_train_new, predictions_train))\n",
    "    val_accuracy.append(accuracy_score(y_val, predictions_val))\n",
    "    \n",
    "    print(\"Completed round\", i+1, \"of 5\")"
   ]
  },
  {
   "cell_type": "code",
   "execution_count": 53,
   "metadata": {},
   "outputs": [],
   "source": [
    "training_df = pd.DataFrame(\n",
    "    {'train_accuracy': train_accuracy,\n",
    "     'val_accuracy': val_accuracy,\n",
    "     'validation_sizes': validation_sizes}\n",
    ")"
   ]
  },
  {
   "cell_type": "code",
   "execution_count": 54,
   "metadata": {},
   "outputs": [
    {
     "data": {
      "image/png": "[encoded data removed]",
      "text/plain": [
       "<Figure size 432x288 with 1 Axes>"
      ]
     },
     "metadata": {
      "needs_background": "light"
     },
     "output_type": "display_data"
    }
   ],
   "source": [
    "plt.plot(training_df[\"validation_sizes\"], training_df[[\"train_accuracy\", \"val_accuracy\"]])\n",
    "plt.xlabel('Validation Set Size')\n",
    "plt.ylabel('Model Accuracy')\n",
    "plt.title('SVM Accuracy by Validation and Training Set Size')\n",
    "plt.xticks([0,.1,.2,.3,.4,.5])\n",
    "plt.legend(['train_accuracy', \"val_accuracy\"])\n",
    "plt.show()"
   ]
  },
  {
   "cell_type": "markdown",
   "metadata": {},
   "source": [
    "***Best validation set size for the hyperparameters: 0.1 - This means a k of 10 for k-fold cross validation.***"
   ]
  },
  {
   "cell_type": "code",
   "execution_count": 55,
   "metadata": {},
   "outputs": [
    {
     "name": "stdout",
     "output_type": "stream",
     "text": [
      "Completed Round 1 of 4.\n",
      "Completed Round 2 of 4.\n",
      "Completed Round 3 of 4.\n",
      "Completed Round 4 of 4.\n"
     ]
    }
   ],
   "source": [
    "# first we do kernel types\n",
    "kernel = ['linear', 'poly', 'rbf', 'sigmoid']\n",
    "\n",
    "scores_train = []\n",
    "scores_val = []\n",
    "\n",
    "for i in range(4):\n",
    "    svm = SVC(kernel=kernel[i], random_state=20170826)\n",
    "\n",
    "    scores = cross_validate(svm, X_train, y_train, cv=5, return_train_score=True)\n",
    "\n",
    "    scores_train.append(scores['train_score'].mean())\n",
    "    scores_val.append(scores['test_score'].mean())\n",
    "\n",
    "    print(\"Completed Round\", i+1, \"of 4.\")"
   ]
  },
  {
   "cell_type": "code",
   "execution_count": 56,
   "metadata": {},
   "outputs": [],
   "source": [
    "kernel_cats = []\n",
    "for i in range(4):\n",
    "    kernel_cats.append(str(kernel[i]))"
   ]
  },
  {
   "cell_type": "code",
   "execution_count": 57,
   "metadata": {},
   "outputs": [],
   "source": [
    "kernels_df = pd.DataFrame(\n",
    "    {'scores_train': scores_train,\n",
    "     'scores_val': scores_val,\n",
    "     'kernel': kernel_cats}\n",
    ")\n",
    "kernels_df['kernel'] = kernels_df['kernel'].astype('category')"
   ]
  },
  {
   "cell_type": "code",
   "execution_count": 58,
   "metadata": {},
   "outputs": [
    {
     "data": {
      "image/png": "[encoded data removed]",
      "text/plain": [
       "<Figure size 432x288 with 1 Axes>"
      ]
     },
     "metadata": {
      "needs_background": "light"
     },
     "output_type": "display_data"
    }
   ],
   "source": [
    "kernels_df.plot.bar(x=\"kernel\")\n",
    "plt.xlabel('Kernels')\n",
    "plt.ylabel('Accuracy Score')\n",
    "plt.title('SVM Accuracy by Kernel Type')\n",
    "plt.legend([\"Training Set\", \"Validation Set\"], loc='lower center')\n",
    "plt.show()"
   ]
  },
  {
   "cell_type": "markdown",
   "metadata": {},
   "source": [
    "***Chosen Kernel for the test set: rbf, but 3 of them performed similarly; it was interesting to see how far below sigmoid was.***"
   ]
  },
  {
   "cell_type": "code",
   "execution_count": 59,
   "metadata": {},
   "outputs": [
    {
     "name": "stdout",
     "output_type": "stream",
     "text": [
      "Completed Round 1 of 5.\n",
      "Completed Round 2 of 5.\n",
      "Completed Round 3 of 5.\n",
      "Completed Round 4 of 5.\n",
      "Completed Round 5 of 5.\n"
     ]
    }
   ],
   "source": [
    "# let's try one more parameter - \n",
    "max_iter = [5, 50, 100, 500, 1000]\n",
    "\n",
    "scores_train = []\n",
    "scores_val = []\n",
    "\n",
    "for i in range(5):\n",
    "    svm = SVC(max_iter=max_iter[i], random_state=20170826)\n",
    "\n",
    "    scores = cross_validate(svm, X_train, y_train, cv=5, return_train_score=True)\n",
    "\n",
    "    scores_train.append(scores['train_score'].mean())\n",
    "    scores_val.append(scores['test_score'].mean())\n",
    "        \n",
    "    print(\"Completed Round\", i+1, \"of 5.\")"
   ]
  },
  {
   "cell_type": "code",
   "execution_count": 60,
   "metadata": {},
   "outputs": [],
   "source": [
    "iter_df = pd.DataFrame(\n",
    "    {'scores_train': scores_train,\n",
    "     'scores_val': scores_val,\n",
    "     'max_iter': max_iter}\n",
    ")"
   ]
  },
  {
   "cell_type": "code",
   "execution_count": 61,
   "metadata": {},
   "outputs": [
    {
     "data": {
      "image/png": "[encoded data removed]",
      "text/plain": [
       "<Figure size 432x288 with 1 Axes>"
      ]
     },
     "metadata": {
      "needs_background": "light"
     },
     "output_type": "display_data"
    }
   ],
   "source": [
    "plt.plot(iter_df[\"max_iter\"], iter_df[[\"scores_train\", \"scores_val\"]])\n",
    "plt.xlabel('Max Iteration Size')\n",
    "plt.ylabel('Accuracy Score')\n",
    "plt.title('SVM Accuracy by Max Iterations Parameter')\n",
    "plt.xticks([5,10,10,500,1000])\n",
    "plt.legend([\"Training Set\", \"Validation Set\"])\n",
    "plt.show()"
   ]
  },
  {
   "cell_type": "markdown",
   "metadata": {},
   "source": [
    "***Chosen max iter size for the test set: 1000.***"
   ]
  },
  {
   "cell_type": "code",
   "execution_count": 62,
   "metadata": {},
   "outputs": [
    {
     "name": "stdout",
     "output_type": "stream",
     "text": [
      "Time to use Grid Search: 0.026557473341623943 minutes\n",
      "Final SVM Test Accuracy: 0.62\n",
      "Best Params from Grid Search: {'kernel': 'rbf', 'max_iter': 500}\n"
     ]
    }
   ],
   "source": [
    "# according to this, our best parameters are a kernel of rbf and a max_iter size of 1000, with some variation\n",
    "start = time.time()\n",
    "\n",
    "param_grid = {'kernel': ['linear', 'poly', 'rbf', 'sigmoid'],\n",
    "              'max_iter': [5, 50, 100, 500, 1000]}\n",
    "\n",
    "svm_final = GridSearchCV(SVC(random_state=20170826), param_grid=param_grid)\n",
    "svm_final.fit(X_train, y_train)\n",
    "predictions = svm_final.predict(X_test)\n",
    "final_score = accuracy_score(y_test, predictions)\n",
    "\n",
    "end = time.time()\n",
    "\n",
    "print(\"Time to use Grid Search:\", (end-start)/60, \"minutes\")\n",
    "print(\"Final SVM Test Accuracy:\", final_score)\n",
    "print(\"Best Params from Grid Search:\", svm_final.best_params_)"
   ]
  },
  {
   "cell_type": "code",
   "execution_count": 63,
   "metadata": {},
   "outputs": [
    {
     "name": "stdout",
     "output_type": "stream",
     "text": [
      "Final boosted tree accuracy is performing -5.775075987841951 % better than the baseline of blind guessing.\n"
     ]
    }
   ],
   "source": [
    "print(\"Final boosted tree accuracy is performing\", ((final_score-0.658)/0.658)*100, \"% better than the baseline of blind guessing.\")"
   ]
  },
  {
   "cell_type": "markdown",
   "metadata": {},
   "source": [
    "## KNN"
   ]
  },
  {
   "cell_type": "code",
   "execution_count": 64,
   "metadata": {},
   "outputs": [],
   "source": [
    "## KNN\n",
    "from sklearn.neighbors import KNeighborsClassifier"
   ]
  },
  {
   "cell_type": "code",
   "execution_count": 65,
   "metadata": {},
   "outputs": [
    {
     "name": "stdout",
     "output_type": "stream",
     "text": [
      "Completed round 1 of 5\n",
      "Completed round 2 of 5\n",
      "Completed round 3 of 5\n",
      "Completed round 4 of 5\n",
      "Completed round 5 of 5\n"
     ]
    }
   ],
   "source": [
    "train_accuracy = []\n",
    "val_accuracy = []\n",
    "\n",
    "for i in range(5):\n",
    "    X_train_new, X_val, y_train_new, y_val = train_test_split(X_train, y_train, test_size=validation_sizes[i], random_state=20170826)\n",
    "    \n",
    "    knn = KNeighborsClassifier(n_neighbors=5, metric='D')\n",
    "    \n",
    "    knn.fit(X_train_new, y_train_new)\n",
    "    \n",
    "    predictions_train = knn.predict(X_train_new)\n",
    "    predictions_val = knn.predict(X_val)\n",
    "    \n",
    "    train_accuracy.append(accuracy_score(y_train_new, predictions_train))\n",
    "    val_accuracy.append(accuracy_score(y_val, predictions_val))\n",
    "    \n",
    "    print(\"Completed round\", i+1, \"of 5\")"
   ]
  },
  {
   "cell_type": "code",
   "execution_count": 66,
   "metadata": {},
   "outputs": [],
   "source": [
    "training_df = pd.DataFrame(\n",
    "    {'train_accuracy': train_accuracy,\n",
    "     'val_accuracy': val_accuracy,\n",
    "     'validation_sizes': validation_sizes}\n",
    ")"
   ]
  },
  {
   "cell_type": "code",
   "execution_count": 67,
   "metadata": {},
   "outputs": [
    {
     "data": {
      "image/png": "[encoded data removed]",
      "text/plain": [
       "<Figure size 432x288 with 1 Axes>"
      ]
     },
     "metadata": {
      "needs_background": "light"
     },
     "output_type": "display_data"
    }
   ],
   "source": [
    "plt.plot(training_df[\"validation_sizes\"], training_df[[\"train_accuracy\", \"val_accuracy\"]])\n",
    "plt.xlabel('Validation Set Size')\n",
    "plt.ylabel('Model Accuracy')\n",
    "plt.title('KNN Accuracy by Validation and Training Set Size')\n",
    "plt.xticks([0,.1,.2,.3,.4,.5])\n",
    "plt.legend(['train_accuracy', \"val_accuracy\"])\n",
    "plt.show()"
   ]
  },
  {
   "cell_type": "markdown",
   "metadata": {},
   "source": [
    "***Best validation set size for the hyperparameters: 0.05 - This means a k of 20 for k-fold cross validation.***"
   ]
  },
  {
   "cell_type": "code",
   "execution_count": 68,
   "metadata": {},
   "outputs": [
    {
     "name": "stdout",
     "output_type": "stream",
     "text": [
      "Completed Round 1 of 10.\n",
      "Completed Round 2 of 10.\n",
      "Completed Round 3 of 10.\n",
      "Completed Round 4 of 10.\n",
      "Completed Round 5 of 10.\n",
      "Completed Round 6 of 10.\n",
      "Completed Round 7 of 10.\n",
      "Completed Round 8 of 10.\n",
      "Completed Round 9 of 10.\n",
      "Completed Round 10 of 10.\n"
     ]
    }
   ],
   "source": [
    "# first we do neighbors - n_neighbors parameter\n",
    "n_neighbors = np.arange(1,11)\n",
    "\n",
    "scores_train = []\n",
    "scores_val = []\n",
    "\n",
    "for i in range(10):\n",
    "    knn = KNeighborsClassifier(n_neighbors=n_neighbors[i])\n",
    "\n",
    "    scores = cross_validate(knn, X_train, y_train, cv=5, return_train_score=True)\n",
    "\n",
    "    scores_train.append(scores['train_score'].mean())\n",
    "    scores_val.append(scores['test_score'].mean())\n",
    "\n",
    "    print(\"Completed Round\", i+1, \"of 10.\")"
   ]
  },
  {
   "cell_type": "code",
   "execution_count": 69,
   "metadata": {},
   "outputs": [],
   "source": [
    "neighbors_df = pd.DataFrame(\n",
    "    {'scores_train': scores_train,\n",
    "     'scores_val': scores_val,\n",
    "     'n_neighbors': n_neighbors}\n",
    ")"
   ]
  },
  {
   "cell_type": "code",
   "execution_count": 70,
   "metadata": {},
   "outputs": [
    {
     "data": {
      "image/png": "[encoded data removed]",
      "text/plain": [
       "<Figure size 432x288 with 1 Axes>"
      ]
     },
     "metadata": {
      "needs_background": "light"
     },
     "output_type": "display_data"
    }
   ],
   "source": [
    "plt.plot(neighbors_df[\"n_neighbors\"], neighbors_df[[\"scores_train\", \"scores_val\"]])\n",
    "plt.xlabel('K Neighbor Size')\n",
    "plt.ylabel('Accuracy Score')\n",
    "plt.title('KNN Accuracy by K Neighbor Size')\n",
    "plt.xticks(np.arange(1,11))\n",
    "plt.legend([\"Training Set\", \"Validation Set\"])\n",
    "plt.show()"
   ]
  },
  {
   "cell_type": "markdown",
   "metadata": {},
   "source": [
    "***Chosen K neighbors size for the test set: 1.***"
   ]
  },
  {
   "cell_type": "code",
   "execution_count": 71,
   "metadata": {},
   "outputs": [
    {
     "name": "stdout",
     "output_type": "stream",
     "text": [
      "Completed Round 1 of 4.\n",
      "Completed Round 2 of 4.\n",
      "Completed Round 3 of 4.\n",
      "Completed Round 4 of 4.\n"
     ]
    }
   ],
   "source": [
    "# let's try one more parameter - \n",
    "metric = ['euclidean', 'manhattan', 'chebyshev', 'chebyshev']\n",
    "\n",
    "scores_train = []\n",
    "scores_val = []\n",
    "\n",
    "for i in range(4):\n",
    "    knn = KNeighborsClassifier(metric=metric[i])\n",
    "\n",
    "    scores = cross_validate(knn, X_train, y_train, cv=5, return_train_score=True)\n",
    "\n",
    "    scores_train.append(scores['train_score'].mean())\n",
    "    scores_val.append(scores['test_score'].mean())\n",
    "        \n",
    "    print(\"Completed Round\", i+1, \"of 4.\")"
   ]
  },
  {
   "cell_type": "code",
   "execution_count": 72,
   "metadata": {},
   "outputs": [],
   "source": [
    "metric_cats = []\n",
    "for i in range(4):\n",
    "    metric_cats.append(str(metric[i]))"
   ]
  },
  {
   "cell_type": "code",
   "execution_count": 73,
   "metadata": {},
   "outputs": [],
   "source": [
    "metrics_df = pd.DataFrame(\n",
    "    {'scores_train': scores_train,\n",
    "     'scores_val': scores_val,\n",
    "     'metric': metric_cats}\n",
    ")\n",
    "metrics_df['metric'] = metrics_df['metric'].astype('category')"
   ]
  },
  {
   "cell_type": "code",
   "execution_count": 74,
   "metadata": {
    "scrolled": true
   },
   "outputs": [
    {
     "data": {
      "image/png": "[encoded data removed]",
      "text/plain": [
       "<Figure size 432x288 with 1 Axes>"
      ]
     },
     "metadata": {
      "needs_background": "light"
     },
     "output_type": "display_data"
    }
   ],
   "source": [
    "metrics_df.plot.bar(x=\"metric\")\n",
    "plt.xlabel('KNN Distance Metric')\n",
    "plt.ylabel('Accuracy Score')\n",
    "plt.title('KNN Accuracy by Distance Metric')\n",
    "plt.legend([\"Training Set\", \"Validation Set\"], loc='lower center')\n",
    "plt.show()"
   ]
  },
  {
   "cell_type": "markdown",
   "metadata": {},
   "source": [
    "***Chosen Distance Metric for the test set: manhattan, but they're all the same.***"
   ]
  },
  {
   "cell_type": "code",
   "execution_count": 75,
   "metadata": {},
   "outputs": [
    {
     "name": "stdout",
     "output_type": "stream",
     "text": [
      "Time to use Grid Search: 0.03172883987426758 minutes\n",
      "Final KNN Test Accuracy: 1.0\n",
      "Best Params from Grid Search: {'metric': 'manhattan', 'n_neighbors': 1}\n"
     ]
    }
   ],
   "source": [
    "# according to this, our best parameters are a K neighbors size of 1 and a distance metric of manhattan, with some variation\n",
    "start = time.time()\n",
    "\n",
    "param_grid = {'metric': ['euclidean', 'manhattan', 'chebyshev', 'chebyshev'],\n",
    "              'n_neighbors':np.arange(1,11)}\n",
    "\n",
    "knn_final = GridSearchCV(KNeighborsClassifier(), param_grid=param_grid)\n",
    "knn_final.fit(X_train, y_train)\n",
    "predictions = knn_final.predict(X_test)\n",
    "final_score = accuracy_score(y_test, predictions)\n",
    "\n",
    "end = time.time()\n",
    "\n",
    "print(\"Time to use Grid Search:\", (end-start)/60, \"minutes\")\n",
    "print(\"Final KNN Test Accuracy:\", final_score)\n",
    "print(\"Best Params from Grid Search:\", knn_final.best_params_)"
   ]
  },
  {
   "cell_type": "code",
   "execution_count": 76,
   "metadata": {},
   "outputs": [
    {
     "name": "stdout",
     "output_type": "stream",
     "text": [
      "Final MLP accuracy is performing 51.97568389057749 % better than the baseline of blind guessing.\n"
     ]
    }
   ],
   "source": [
    "print(\"Final MLP accuracy is performing\", ((final_score-0.658)/0.658)*100, \"% better than the baseline of blind guessing.\")"
   ]
  },
  {
   "cell_type": "markdown",
   "metadata": {},
   "source": [
    "***Models on this dataset FINISHED - see accompanying .ipynb notebook for other dataset.***"
   ]
  },
  {
   "cell_type": "code",
   "execution_count": null,
   "metadata": {},
   "outputs": [],
   "source": []
  }
 ],
 "metadata": {
  "kernelspec": {
   "display_name": "Python 3 (ipykernel)",
   "language": "python",
   "name": "python3"
  },
  "language_info": {
   "codemirror_mode": {
    "name": "ipython",
    "version": 3
   },
   "file_extension": ".py",
   "mimetype": "text/x-python",
   "name": "python",
   "nbconvert_exporter": "python",
   "pygments_lexer": "ipython3",
   "version": "3.9.7"
  }
 },
 "nbformat": 4,
 "nbformat_minor": 4
}
